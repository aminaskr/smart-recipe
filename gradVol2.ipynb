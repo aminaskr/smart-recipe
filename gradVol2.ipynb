{
  "nbformat": 4,
  "nbformat_minor": 0,
  "metadata": {
    "colab": {
      "provenance": []
    },
    "kernelspec": {
      "name": "python3",
      "display_name": "Python 3"
    },
    "language_info": {
      "name": "python"
    }
  },
  "cells": [
    {
      "cell_type": "code",
      "source": [
        "from google.colab import drive"
      ],
      "metadata": {
        "id": "teG7e_97NN--"
      },
      "execution_count": null,
      "outputs": []
    },
    {
      "cell_type": "code",
      "source": [
        "drive.mount('/content/drive')"
      ],
      "metadata": {
        "colab": {
          "base_uri": "https://localhost:8080/"
        },
        "id": "ofOLlD5XNeRv",
        "outputId": "845bb480-ec00-47b2-963d-d73526b54e42"
      },
      "execution_count": null,
      "outputs": [
        {
          "output_type": "stream",
          "name": "stdout",
          "text": [
            "Mounted at /content/drive\n"
          ]
        }
      ]
    },
    {
      "cell_type": "code",
      "source": [
        "import pandas as pd"
      ],
      "metadata": {
        "id": "DFc07XwdOsfc"
      },
      "execution_count": null,
      "outputs": []
    },
    {
      "cell_type": "code",
      "source": [
        "df = pd.read_excel('/content/drive/MyDrive/data/dataset.xlsx', sheet_name='Sheet1')"
      ],
      "metadata": {
        "id": "a0hKzd2QR5cc"
      },
      "execution_count": null,
      "outputs": []
    },
    {
      "cell_type": "code",
      "source": [
        "df.head()"
      ],
      "metadata": {
        "colab": {
          "base_uri": "https://localhost:8080/",
          "height": 365
        },
        "id": "JjsSGrUVSzs6",
        "outputId": "967eb6a2-56e9-42a7-a40e-9984b6184f8d"
      },
      "execution_count": null,
      "outputs": [
        {
          "output_type": "execute_result",
          "data": {
            "text/plain": [
              "   REDNI BROJ JELA                        NAZIV JELA VRIJEME PRIPREME  \\\n",
              "0               1.0  KREM SUPA OD TIKVICA S JOGURTOM                -   \n",
              "1               2.0                  JUHA OD TIKVICA        30 MINUTA   \n",
              "2               3.0       JUHA OD BUNDEVE I ČEŠNJAKA        15 MINUTA   \n",
              "3               4.0    NARANČASTA ZDJELA SAVRŠENSTVA        15 MINUTA   \n",
              "4               5.0                  BUNDEVA ZA DUŠU        15 MINUTA   \n",
              "\n",
              "  VRIJEME KUHANJA UKUPNO VREMENA ZAHTJEVNOST  \\\n",
              "0      20 MINUTA       20 MINUTA         NaN   \n",
              "1               -      30 MINUTA      3 /5.    \n",
              "2       50 MINUTA      65 MINUTA      3 /5.    \n",
              "3       25 MINUTA      40 MINUTA      3 /5.    \n",
              "4       55 MINUTA      70 MINUTA      3 /5.    \n",
              "\n",
              "                                            SASTOJCI  \\\n",
              "0  500 - 600 g tikvica\\n 100 g graška\\n 1 krumpir...   \n",
              "1  300 g tikvica\\n1.5 l vode\\n1 žlica alkoholnog ...   \n",
              "2  1,3 kg bundeve\\n3 režnja češnjaka\\n3 žlice svj...   \n",
              "3  0,7 kg bundeve\\n1 maleni luk\\n3 medvjeđa luka\\...   \n",
              "4  \\n1 bundeva\\n1 režanj češnjaka\\n5 listova kadu...   \n",
              "\n",
              "                                            PRIPREMA  \n",
              "0  Korak 1:\\n\\nNarežite luk na krupnije komade, a...  \n",
              "1  Tikvicu operite i po želji ogulite. Narežite j...  \n",
              "2  \\nZagrijte pećnicu na 200°C.\\nIzmiješajte masl...  \n",
              "3  Zagrijte maslinovo ulje na laganoj temperaturi...  \n",
              "4  Prepolovite bundevu, ogulite ju, uklonite sjem...  "
            ],
            "text/html": [
              "\n",
              "  <div id=\"df-a8641317-131d-43b3-8128-6a80a5de0283\">\n",
              "    <div class=\"colab-df-container\">\n",
              "      <div>\n",
              "<style scoped>\n",
              "    .dataframe tbody tr th:only-of-type {\n",
              "        vertical-align: middle;\n",
              "    }\n",
              "\n",
              "    .dataframe tbody tr th {\n",
              "        vertical-align: top;\n",
              "    }\n",
              "\n",
              "    .dataframe thead th {\n",
              "        text-align: right;\n",
              "    }\n",
              "</style>\n",
              "<table border=\"1\" class=\"dataframe\">\n",
              "  <thead>\n",
              "    <tr style=\"text-align: right;\">\n",
              "      <th></th>\n",
              "      <th>REDNI BROJ JELA</th>\n",
              "      <th>NAZIV JELA</th>\n",
              "      <th>VRIJEME PRIPREME</th>\n",
              "      <th>VRIJEME KUHANJA</th>\n",
              "      <th>UKUPNO VREMENA</th>\n",
              "      <th>ZAHTJEVNOST</th>\n",
              "      <th>SASTOJCI</th>\n",
              "      <th>PRIPREMA</th>\n",
              "    </tr>\n",
              "  </thead>\n",
              "  <tbody>\n",
              "    <tr>\n",
              "      <th>0</th>\n",
              "      <td>1.0</td>\n",
              "      <td>KREM SUPA OD TIKVICA S JOGURTOM</td>\n",
              "      <td>-</td>\n",
              "      <td>20 MINUTA</td>\n",
              "      <td>20 MINUTA</td>\n",
              "      <td>NaN</td>\n",
              "      <td>500 - 600 g tikvica\\n 100 g graška\\n 1 krumpir...</td>\n",
              "      <td>Korak 1:\\n\\nNarežite luk na krupnije komade, a...</td>\n",
              "    </tr>\n",
              "    <tr>\n",
              "      <th>1</th>\n",
              "      <td>2.0</td>\n",
              "      <td>JUHA OD TIKVICA</td>\n",
              "      <td>30 MINUTA</td>\n",
              "      <td>-</td>\n",
              "      <td>30 MINUTA</td>\n",
              "      <td>3 /5.</td>\n",
              "      <td>300 g tikvica\\n1.5 l vode\\n1 žlica alkoholnog ...</td>\n",
              "      <td>Tikvicu operite i po želji ogulite. Narežite j...</td>\n",
              "    </tr>\n",
              "    <tr>\n",
              "      <th>2</th>\n",
              "      <td>3.0</td>\n",
              "      <td>JUHA OD BUNDEVE I ČEŠNJAKA</td>\n",
              "      <td>15 MINUTA</td>\n",
              "      <td>50 MINUTA</td>\n",
              "      <td>65 MINUTA</td>\n",
              "      <td>3 /5.</td>\n",
              "      <td>1,3 kg bundeve\\n3 režnja češnjaka\\n3 žlice svj...</td>\n",
              "      <td>\\nZagrijte pećnicu na 200°C.\\nIzmiješajte masl...</td>\n",
              "    </tr>\n",
              "    <tr>\n",
              "      <th>3</th>\n",
              "      <td>4.0</td>\n",
              "      <td>NARANČASTA ZDJELA SAVRŠENSTVA</td>\n",
              "      <td>15 MINUTA</td>\n",
              "      <td>25 MINUTA</td>\n",
              "      <td>40 MINUTA</td>\n",
              "      <td>3 /5.</td>\n",
              "      <td>0,7 kg bundeve\\n1 maleni luk\\n3 medvjeđa luka\\...</td>\n",
              "      <td>Zagrijte maslinovo ulje na laganoj temperaturi...</td>\n",
              "    </tr>\n",
              "    <tr>\n",
              "      <th>4</th>\n",
              "      <td>5.0</td>\n",
              "      <td>BUNDEVA ZA DUŠU</td>\n",
              "      <td>15 MINUTA</td>\n",
              "      <td>55 MINUTA</td>\n",
              "      <td>70 MINUTA</td>\n",
              "      <td>3 /5.</td>\n",
              "      <td>\\n1 bundeva\\n1 režanj češnjaka\\n5 listova kadu...</td>\n",
              "      <td>Prepolovite bundevu, ogulite ju, uklonite sjem...</td>\n",
              "    </tr>\n",
              "  </tbody>\n",
              "</table>\n",
              "</div>\n",
              "      <button class=\"colab-df-convert\" onclick=\"convertToInteractive('df-a8641317-131d-43b3-8128-6a80a5de0283')\"\n",
              "              title=\"Convert this dataframe to an interactive table.\"\n",
              "              style=\"display:none;\">\n",
              "        \n",
              "  <svg xmlns=\"http://www.w3.org/2000/svg\" height=\"24px\"viewBox=\"0 0 24 24\"\n",
              "       width=\"24px\">\n",
              "    <path d=\"M0 0h24v24H0V0z\" fill=\"none\"/>\n",
              "    <path d=\"M18.56 5.44l.94 2.06.94-2.06 2.06-.94-2.06-.94-.94-2.06-.94 2.06-2.06.94zm-11 1L8.5 8.5l.94-2.06 2.06-.94-2.06-.94L8.5 2.5l-.94 2.06-2.06.94zm10 10l.94 2.06.94-2.06 2.06-.94-2.06-.94-.94-2.06-.94 2.06-2.06.94z\"/><path d=\"M17.41 7.96l-1.37-1.37c-.4-.4-.92-.59-1.43-.59-.52 0-1.04.2-1.43.59L10.3 9.45l-7.72 7.72c-.78.78-.78 2.05 0 2.83L4 21.41c.39.39.9.59 1.41.59.51 0 1.02-.2 1.41-.59l7.78-7.78 2.81-2.81c.8-.78.8-2.07 0-2.86zM5.41 20L4 18.59l7.72-7.72 1.47 1.35L5.41 20z\"/>\n",
              "  </svg>\n",
              "      </button>\n",
              "      \n",
              "  <style>\n",
              "    .colab-df-container {\n",
              "      display:flex;\n",
              "      flex-wrap:wrap;\n",
              "      gap: 12px;\n",
              "    }\n",
              "\n",
              "    .colab-df-convert {\n",
              "      background-color: #E8F0FE;\n",
              "      border: none;\n",
              "      border-radius: 50%;\n",
              "      cursor: pointer;\n",
              "      display: none;\n",
              "      fill: #1967D2;\n",
              "      height: 32px;\n",
              "      padding: 0 0 0 0;\n",
              "      width: 32px;\n",
              "    }\n",
              "\n",
              "    .colab-df-convert:hover {\n",
              "      background-color: #E2EBFA;\n",
              "      box-shadow: 0px 1px 2px rgba(60, 64, 67, 0.3), 0px 1px 3px 1px rgba(60, 64, 67, 0.15);\n",
              "      fill: #174EA6;\n",
              "    }\n",
              "\n",
              "    [theme=dark] .colab-df-convert {\n",
              "      background-color: #3B4455;\n",
              "      fill: #D2E3FC;\n",
              "    }\n",
              "\n",
              "    [theme=dark] .colab-df-convert:hover {\n",
              "      background-color: #434B5C;\n",
              "      box-shadow: 0px 1px 3px 1px rgba(0, 0, 0, 0.15);\n",
              "      filter: drop-shadow(0px 1px 2px rgba(0, 0, 0, 0.3));\n",
              "      fill: #FFFFFF;\n",
              "    }\n",
              "  </style>\n",
              "\n",
              "      <script>\n",
              "        const buttonEl =\n",
              "          document.querySelector('#df-a8641317-131d-43b3-8128-6a80a5de0283 button.colab-df-convert');\n",
              "        buttonEl.style.display =\n",
              "          google.colab.kernel.accessAllowed ? 'block' : 'none';\n",
              "\n",
              "        async function convertToInteractive(key) {\n",
              "          const element = document.querySelector('#df-a8641317-131d-43b3-8128-6a80a5de0283');\n",
              "          const dataTable =\n",
              "            await google.colab.kernel.invokeFunction('convertToInteractive',\n",
              "                                                     [key], {});\n",
              "          if (!dataTable) return;\n",
              "\n",
              "          const docLinkHtml = 'Like what you see? Visit the ' +\n",
              "            '<a target=\"_blank\" href=https://colab.research.google.com/notebooks/data_table.ipynb>data table notebook</a>'\n",
              "            + ' to learn more about interactive tables.';\n",
              "          element.innerHTML = '';\n",
              "          dataTable['output_type'] = 'display_data';\n",
              "          await google.colab.output.renderOutput(dataTable, element);\n",
              "          const docLink = document.createElement('div');\n",
              "          docLink.innerHTML = docLinkHtml;\n",
              "          element.appendChild(docLink);\n",
              "        }\n",
              "      </script>\n",
              "    </div>\n",
              "  </div>\n",
              "  "
            ]
          },
          "metadata": {},
          "execution_count": 5
        }
      ]
    },
    {
      "cell_type": "code",
      "source": [
        "df.shape"
      ],
      "metadata": {
        "colab": {
          "base_uri": "https://localhost:8080/"
        },
        "id": "kOt3AQQgS5DR",
        "outputId": "583231d1-6d96-4d2a-9416-715929e195a9"
      },
      "execution_count": null,
      "outputs": [
        {
          "output_type": "execute_result",
          "data": {
            "text/plain": [
              "(100, 8)"
            ]
          },
          "metadata": {},
          "execution_count": 6
        }
      ]
    },
    {
      "cell_type": "code",
      "source": [
        "df.info"
      ],
      "metadata": {
        "colab": {
          "base_uri": "https://localhost:8080/"
        },
        "id": "ZOETnaMZTBOp",
        "outputId": "de9163d2-219a-43e1-bbb0-cb0c13083df9"
      },
      "execution_count": null,
      "outputs": [
        {
          "output_type": "execute_result",
          "data": {
            "text/plain": [
              "<bound method DataFrame.info of     REDNI BROJ JELA                        NAZIV JELA VRIJEME PRIPREME  \\\n",
              "0                1.0  KREM SUPA OD TIKVICA S JOGURTOM                -   \n",
              "1                2.0                  JUHA OD TIKVICA        30 MINUTA   \n",
              "2                3.0       JUHA OD BUNDEVE I ČEŠNJAKA        15 MINUTA   \n",
              "3                4.0    NARANČASTA ZDJELA SAVRŠENSTVA        15 MINUTA   \n",
              "4                5.0                  BUNDEVA ZA DUŠU        15 MINUTA   \n",
              "..               ...                              ...              ...   \n",
              "95              96.0          KIKIRIKI PLOŠKE S RIŽOM        20 MINUTA   \n",
              "96              97.0                   SIROVE KUGLICE        10 MINUTA   \n",
              "97              98.0           BEZGLUTENSKE PALAČINKE       30 SEKUNDI   \n",
              "98              99.0                      ZEBRA KOLAČ        15 MINUTA   \n",
              "99             100.0              MARMELADA OD SMOKVI         1 MINUTA   \n",
              "\n",
              "   VRIJEME KUHANJA UKUPNO VREMENA ZAHTJEVNOST  \\\n",
              "0       20 MINUTA       20 MINUTA         NaN   \n",
              "1                -      30 MINUTA      3 /5.    \n",
              "2        50 MINUTA      65 MINUTA      3 /5.    \n",
              "3        25 MINUTA      40 MINUTA      3 /5.    \n",
              "4        55 MINUTA      70 MINUTA      3 /5.    \n",
              "..             ...            ...         ...   \n",
              "95        0 MINUTA      20 MINUTA      2 /5.    \n",
              "96        0 MINUTA      10 MINUTA      3 /5.    \n",
              "97               -       4 MINUTA      2 /5.    \n",
              "98       70 MINUTA      85 MINUTA      3 /5.    \n",
              "99        5 MINUTA       6 MINUTA      2 /5.    \n",
              "\n",
              "                                             SASTOJCI  \\\n",
              "0   500 - 600 g tikvica\\n 100 g graška\\n 1 krumpir...   \n",
              "1   300 g tikvica\\n1.5 l vode\\n1 žlica alkoholnog ...   \n",
              "2   1,3 kg bundeve\\n3 režnja češnjaka\\n3 žlice svj...   \n",
              "3   0,7 kg bundeve\\n1 maleni luk\\n3 medvjeđa luka\\...   \n",
              "4   \\n1 bundeva\\n1 režanj češnjaka\\n5 listova kadu...   \n",
              "..                                                ...   \n",
              "95  150 ml maslaca od kikirikija\\n1 žlica kokosova...   \n",
              "96  3 žlice kakaa\\nprstohvat vanilije\\n1 šalica or...   \n",
              "97  1 1/2 šalica nezaslađenog bademovog mlijeka\\n2...   \n",
              "98  5 jaja\\n1 mjerna posuda* šećera\\n1 vanili šeće...   \n",
              "99  1 šalica sušenih smokvi\\n1 šalica brusnica\\n2 ...   \n",
              "\n",
              "                                             PRIPREMA  \n",
              "0   Korak 1:\\n\\nNarežite luk na krupnije komade, a...  \n",
              "1   Tikvicu operite i po želji ogulite. Narežite j...  \n",
              "2   \\nZagrijte pećnicu na 200°C.\\nIzmiješajte masl...  \n",
              "3   Zagrijte maslinovo ulje na laganoj temperaturi...  \n",
              "4   Prepolovite bundevu, ogulite ju, uklonite sjem...  \n",
              "..                                                ...  \n",
              "95  Na laganoj vatri otopite kokosovo ulje, med i ...  \n",
              "96  Orahe, zobene i datulje stavite u Nutribullet ...  \n",
              "97  Dodajte sve sastojke u Nutribullet šalicu i ek...  \n",
              "98  U Delimano kuhinjskom robotu Pro napravite sni...  \n",
              "99  Pomiješajte sve sastojke, osim ekstrakta vanil...  \n",
              "\n",
              "[100 rows x 8 columns]>"
            ]
          },
          "metadata": {},
          "execution_count": 7
        }
      ]
    },
    {
      "cell_type": "code",
      "source": [
        "df.describe()"
      ],
      "metadata": {
        "colab": {
          "base_uri": "https://localhost:8080/",
          "height": 313
        },
        "id": "2e38gCxjTLif",
        "outputId": "52213d89-d3e8-4479-d3ab-a14699ca4e37"
      },
      "execution_count": null,
      "outputs": [
        {
          "output_type": "execute_result",
          "data": {
            "text/plain": [
              "       REDNI BROJ JELA \n",
              "count        100.000000\n",
              "mean          50.500000\n",
              "std           29.011492\n",
              "min            1.000000\n",
              "25%           25.750000\n",
              "50%           50.500000\n",
              "75%           75.250000\n",
              "max          100.000000"
            ],
            "text/html": [
              "\n",
              "  <div id=\"df-e858b8e5-c481-49f0-8265-984933a312ec\">\n",
              "    <div class=\"colab-df-container\">\n",
              "      <div>\n",
              "<style scoped>\n",
              "    .dataframe tbody tr th:only-of-type {\n",
              "        vertical-align: middle;\n",
              "    }\n",
              "\n",
              "    .dataframe tbody tr th {\n",
              "        vertical-align: top;\n",
              "    }\n",
              "\n",
              "    .dataframe thead th {\n",
              "        text-align: right;\n",
              "    }\n",
              "</style>\n",
              "<table border=\"1\" class=\"dataframe\">\n",
              "  <thead>\n",
              "    <tr style=\"text-align: right;\">\n",
              "      <th></th>\n",
              "      <th>REDNI BROJ JELA</th>\n",
              "    </tr>\n",
              "  </thead>\n",
              "  <tbody>\n",
              "    <tr>\n",
              "      <th>count</th>\n",
              "      <td>100.000000</td>\n",
              "    </tr>\n",
              "    <tr>\n",
              "      <th>mean</th>\n",
              "      <td>50.500000</td>\n",
              "    </tr>\n",
              "    <tr>\n",
              "      <th>std</th>\n",
              "      <td>29.011492</td>\n",
              "    </tr>\n",
              "    <tr>\n",
              "      <th>min</th>\n",
              "      <td>1.000000</td>\n",
              "    </tr>\n",
              "    <tr>\n",
              "      <th>25%</th>\n",
              "      <td>25.750000</td>\n",
              "    </tr>\n",
              "    <tr>\n",
              "      <th>50%</th>\n",
              "      <td>50.500000</td>\n",
              "    </tr>\n",
              "    <tr>\n",
              "      <th>75%</th>\n",
              "      <td>75.250000</td>\n",
              "    </tr>\n",
              "    <tr>\n",
              "      <th>max</th>\n",
              "      <td>100.000000</td>\n",
              "    </tr>\n",
              "  </tbody>\n",
              "</table>\n",
              "</div>\n",
              "      <button class=\"colab-df-convert\" onclick=\"convertToInteractive('df-e858b8e5-c481-49f0-8265-984933a312ec')\"\n",
              "              title=\"Convert this dataframe to an interactive table.\"\n",
              "              style=\"display:none;\">\n",
              "        \n",
              "  <svg xmlns=\"http://www.w3.org/2000/svg\" height=\"24px\"viewBox=\"0 0 24 24\"\n",
              "       width=\"24px\">\n",
              "    <path d=\"M0 0h24v24H0V0z\" fill=\"none\"/>\n",
              "    <path d=\"M18.56 5.44l.94 2.06.94-2.06 2.06-.94-2.06-.94-.94-2.06-.94 2.06-2.06.94zm-11 1L8.5 8.5l.94-2.06 2.06-.94-2.06-.94L8.5 2.5l-.94 2.06-2.06.94zm10 10l.94 2.06.94-2.06 2.06-.94-2.06-.94-.94-2.06-.94 2.06-2.06.94z\"/><path d=\"M17.41 7.96l-1.37-1.37c-.4-.4-.92-.59-1.43-.59-.52 0-1.04.2-1.43.59L10.3 9.45l-7.72 7.72c-.78.78-.78 2.05 0 2.83L4 21.41c.39.39.9.59 1.41.59.51 0 1.02-.2 1.41-.59l7.78-7.78 2.81-2.81c.8-.78.8-2.07 0-2.86zM5.41 20L4 18.59l7.72-7.72 1.47 1.35L5.41 20z\"/>\n",
              "  </svg>\n",
              "      </button>\n",
              "      \n",
              "  <style>\n",
              "    .colab-df-container {\n",
              "      display:flex;\n",
              "      flex-wrap:wrap;\n",
              "      gap: 12px;\n",
              "    }\n",
              "\n",
              "    .colab-df-convert {\n",
              "      background-color: #E8F0FE;\n",
              "      border: none;\n",
              "      border-radius: 50%;\n",
              "      cursor: pointer;\n",
              "      display: none;\n",
              "      fill: #1967D2;\n",
              "      height: 32px;\n",
              "      padding: 0 0 0 0;\n",
              "      width: 32px;\n",
              "    }\n",
              "\n",
              "    .colab-df-convert:hover {\n",
              "      background-color: #E2EBFA;\n",
              "      box-shadow: 0px 1px 2px rgba(60, 64, 67, 0.3), 0px 1px 3px 1px rgba(60, 64, 67, 0.15);\n",
              "      fill: #174EA6;\n",
              "    }\n",
              "\n",
              "    [theme=dark] .colab-df-convert {\n",
              "      background-color: #3B4455;\n",
              "      fill: #D2E3FC;\n",
              "    }\n",
              "\n",
              "    [theme=dark] .colab-df-convert:hover {\n",
              "      background-color: #434B5C;\n",
              "      box-shadow: 0px 1px 3px 1px rgba(0, 0, 0, 0.15);\n",
              "      filter: drop-shadow(0px 1px 2px rgba(0, 0, 0, 0.3));\n",
              "      fill: #FFFFFF;\n",
              "    }\n",
              "  </style>\n",
              "\n",
              "      <script>\n",
              "        const buttonEl =\n",
              "          document.querySelector('#df-e858b8e5-c481-49f0-8265-984933a312ec button.colab-df-convert');\n",
              "        buttonEl.style.display =\n",
              "          google.colab.kernel.accessAllowed ? 'block' : 'none';\n",
              "\n",
              "        async function convertToInteractive(key) {\n",
              "          const element = document.querySelector('#df-e858b8e5-c481-49f0-8265-984933a312ec');\n",
              "          const dataTable =\n",
              "            await google.colab.kernel.invokeFunction('convertToInteractive',\n",
              "                                                     [key], {});\n",
              "          if (!dataTable) return;\n",
              "\n",
              "          const docLinkHtml = 'Like what you see? Visit the ' +\n",
              "            '<a target=\"_blank\" href=https://colab.research.google.com/notebooks/data_table.ipynb>data table notebook</a>'\n",
              "            + ' to learn more about interactive tables.';\n",
              "          element.innerHTML = '';\n",
              "          dataTable['output_type'] = 'display_data';\n",
              "          await google.colab.output.renderOutput(dataTable, element);\n",
              "          const docLink = document.createElement('div');\n",
              "          docLink.innerHTML = docLinkHtml;\n",
              "          element.appendChild(docLink);\n",
              "        }\n",
              "      </script>\n",
              "    </div>\n",
              "  </div>\n",
              "  "
            ]
          },
          "metadata": {},
          "execution_count": 8
        }
      ]
    },
    {
      "cell_type": "code",
      "source": [
        "df.dropna(inplace=True)"
      ],
      "metadata": {
        "id": "dewvXKe0oVUh"
      },
      "execution_count": null,
      "outputs": []
    },
    {
      "cell_type": "code",
      "source": [
        "df['PRIPREMA']"
      ],
      "metadata": {
        "colab": {
          "base_uri": "https://localhost:8080/"
        },
        "id": "f4Qe3nvEiVwP",
        "outputId": "20eec13b-0bc0-46a3-8cb6-391342fb2eab"
      },
      "execution_count": null,
      "outputs": [
        {
          "output_type": "execute_result",
          "data": {
            "text/plain": [
              "1     Tikvicu operite i po želji ogulite. Narežite j...\n",
              "2     \\nZagrijte pećnicu na 200°C.\\nIzmiješajte masl...\n",
              "3     Zagrijte maslinovo ulje na laganoj temperaturi...\n",
              "4     Prepolovite bundevu, ogulite ju, uklonite sjem...\n",
              "5     Zagrijte pećnicu na 200°C.\\nBundeve ogulite, p...\n",
              "                            ...                        \n",
              "95    Na laganoj vatri otopite kokosovo ulje, med i ...\n",
              "96    Orahe, zobene i datulje stavite u Nutribullet ...\n",
              "97    Dodajte sve sastojke u Nutribullet šalicu i ek...\n",
              "98    U Delimano kuhinjskom robotu Pro napravite sni...\n",
              "99    Pomiješajte sve sastojke, osim ekstrakta vanil...\n",
              "Name: PRIPREMA, Length: 99, dtype: object"
            ]
          },
          "metadata": {},
          "execution_count": 10
        }
      ]
    },
    {
      "cell_type": "code",
      "source": [
        "!pip install nltk"
      ],
      "metadata": {
        "colab": {
          "base_uri": "https://localhost:8080/"
        },
        "id": "weFbdMpAiizK",
        "outputId": "5076c451-8722-4863-c74e-dbd5251b941d"
      },
      "execution_count": null,
      "outputs": [
        {
          "output_type": "stream",
          "name": "stdout",
          "text": [
            "Looking in indexes: https://pypi.org/simple, https://us-python.pkg.dev/colab-wheels/public/simple/\n",
            "Requirement already satisfied: nltk in /usr/local/lib/python3.10/dist-packages (3.8.1)\n",
            "Requirement already satisfied: click in /usr/local/lib/python3.10/dist-packages (from nltk) (8.1.3)\n",
            "Requirement already satisfied: joblib in /usr/local/lib/python3.10/dist-packages (from nltk) (1.2.0)\n",
            "Requirement already satisfied: regex>=2021.8.3 in /usr/local/lib/python3.10/dist-packages (from nltk) (2022.10.31)\n",
            "Requirement already satisfied: tqdm in /usr/local/lib/python3.10/dist-packages (from nltk) (4.65.0)\n"
          ]
        }
      ]
    },
    {
      "cell_type": "code",
      "source": [
        "import nltk \n",
        "nltk.download('punkt')"
      ],
      "metadata": {
        "colab": {
          "base_uri": "https://localhost:8080/"
        },
        "id": "3RNOhWX4iqJJ",
        "outputId": "d0f85e38-7efe-4770-c729-4ca269645871"
      },
      "execution_count": null,
      "outputs": [
        {
          "output_type": "stream",
          "name": "stderr",
          "text": [
            "[nltk_data] Downloading package punkt to /root/nltk_data...\n",
            "[nltk_data]   Unzipping tokenizers/punkt.zip.\n"
          ]
        },
        {
          "output_type": "execute_result",
          "data": {
            "text/plain": [
              "True"
            ]
          },
          "metadata": {},
          "execution_count": 12
        }
      ]
    },
    {
      "cell_type": "code",
      "source": [
        "from nltk.tokenize import word_tokenize"
      ],
      "metadata": {
        "id": "7DvsKGx3ixo0"
      },
      "execution_count": null,
      "outputs": []
    },
    {
      "cell_type": "code",
      "source": [
        "import regex as re"
      ],
      "metadata": {
        "id": "0P1BAQ6ni5Tk"
      },
      "execution_count": null,
      "outputs": []
    },
    {
      "cell_type": "code",
      "source": [
        "pattern=r\"([!#$@&:;+?><])\""
      ],
      "metadata": {
        "id": "zIgcPCEQ9Ww6"
      },
      "execution_count": null,
      "outputs": []
    },
    {
      "cell_type": "code",
      "source": [
        "def preprocess(string):\n",
        "  removePattern=re.sub(pattern,\" \",str(string))\n",
        "  wordToken=word_tokenize(removePattern)\n",
        "  removeDuplicate=list(dict.fromkeys(wordToken))\n",
        "  return removeDuplicate\n",
        "\n",
        "newLines=[]\n",
        "for lines in df['PRIPREMA']:\n",
        "  Result =preprocess(lines)\n",
        "  newLines.append(Result)"
      ],
      "metadata": {
        "id": "urFN1c6ummvU"
      },
      "execution_count": null,
      "outputs": []
    },
    {
      "cell_type": "code",
      "source": [
        "for lines in newLines:\n",
        "  print(lines)"
      ],
      "metadata": {
        "colab": {
          "base_uri": "https://localhost:8080/"
        },
        "id": "AnFjN22WCncS",
        "outputId": "432c8873-9251-45fe-a207-2999570b819c"
      },
      "execution_count": null,
      "outputs": [
        {
          "output_type": "stream",
          "name": "stdout",
          "text": [
            "['Tikvicu', 'operite', 'i', 'po', 'želji', 'ogulite', '.', 'Narežite', 'ju', 'na', 'kockice', ',', 'premjestite', 'u', 'lonac', 'prelijte', 'vodom', 'dodajte', 'ocat', '(', 'dodajete', 'kako', 'vam', 'se', 'tikvice', 'kod', 'kuhanja', 'nebi', 'raspale', ')', 'te', 'svježi', 'kopar', 'koji', 'ste', 'također', 'prethodno', 'oprali', 'nasjeckali', 'sitno', 'Stavite', 'vatru', 'poklopite', 'pustite', 'da', 'prokuha', 'Krumpir', 'mrkvu', 'nasjeckajte', 'prokuhanu', 'juhu', 'smanjite', 'ostavite', 'povrće', 'kuha', 'još', '30', 'minuta', 'Kiselo', 'vrhnje', 'izmješajte', 'posudici', 'nema', 'grudica', 'malo', 'juhe', 'iz', 'lonca', 'biste', 'lakše', 'izmješali', 'Vrhnje', 'umiješajte', 'skuhanu', 'žličicu', 'soli', 'papra', 'promiješajte', 'Na', 'kraju', 'pripremite', 'zapršku', 'tako', 'posebnom', 'lončiću', 'ulju', 'popržite', 'nasjeckani', 'češnjak', 'samo', 'zamiriši', 'to', 'dodate', 'brašno', 'ga.', 'Zatim', 'nadolijete', 'vruće', 'vode', 'crvenu', 'papriku', 'promiješate', 'umutite', 'Juhu', 'kuhajte', 'nekoliko', 'Ako', 'zaprška', 'smeta', 'možete', 'zamutiti', 'brašna', 'mlake', 'pa', 'umutiti', 'do', 'željene', 'gustoće', 'probajte', 'ukoliko', 'treba', 'dosolite', 'uživajte']\n",
            "['Zagrijte', 'pećnicu', 'na', '200°C', '.', 'Izmiješajte', 'maslinovo', 'ulje', ',', 'češnjak', 'peršin', 'kadulju', 'i', 'sol', 'U', 'mješavinu', 'dodajte', 'bundevu', 'Smjesu', 'stavite', 'u', 'posudu', 'za', 'pečenje', 'pecite', '50', '–', '55', 'minuta', 'Kada', 'se', 'smjesa', 'ohladi', 'ju', 'Nutribullet', 'ekstrahirajte', '30', 'sekundi', 'Juhu', 'zagrijte', 'štednjaku', 'poslužite']\n",
            "['Zagrijte', 'maslinovo', 'ulje', 'na', 'laganoj', 'temperaturi', 'te', 'dodajte', 'luk', '.', 'Bundevu', 'narežite', 'kockice', 'ju', 'skupa', 's', 'medvjeđim', 'lukom', 'stavite', 'tavu', 'Začinite', 'Zatim', 'pileći', 'temeljac', 'i', 'pojačajte', 'temperaturu', 'kuhajte', 'oko', '20', 'minuta', 'Juhu', 'maknite', 'vatre', 'izvadite', 'bundevu', 'Kada', 'se', 'bundeva', 'ohladi', ',', 'ekstrahirajte', 'u', 'Nutribulletu', '30', 'sekundi']\n",
            "['Prepolovite', 'bundevu', ',', 'ogulite', 'ju', 'uklonite', 'sjemenke', 'i', 'namažite', 'maslinovim', 'uljem', '.', 'Bundevu', 'pecite', 'na', '200°C', '55', 'minuta', 'Dodajte', 'sve', 'sastojke', 'u', 'Nutribullet', 'ekstrahirajte', '30', 'sekundi']\n",
            "['Zagrijte', 'pećnicu', 'na', '200°C', '.', 'Bundeve', 'ogulite', ',', 'prepolovite', 'te', 'uklonite', 'sjemenke', 'Polovice', 'namažite', 'maslinovim', 'uljem', 'pecite', '30', 'do', '40', 'minuta', 'Operite', 'ih', 'pomiješajte', 's', 'ulje', 'soli', 'i', 'paprom', 'Sjemenke', 'stavite', 'u', 'lim', 'za', 'pečenje', '15', '20', 'Indijske', 'oraščiće', 'Nutribullet', 'ekstrahirajte', 'sekundi', 'kako', 'biste', 'dobili', 'glatku', 'smjesu', 'Dodajte', 'limunov', 'sok', 'jabučni', 'ocat', '1', 'čajnu', 'žličicu', 'pola', 'žličice', 'crnog', 'papra', 'Ekstrahirajte', 'Kada', 'je', 'bundeva', 'pečena', 'narežite', 'ju', 'manje', 'komade', 'pustite', 'da', 'se', 'ohladi', 'sa', 'svima', 'sastojcima', 'Nutribulletu', 'juha', 'gotova', 'zagrijte', 'štednjaku']\n",
            "['Ugrijte', 'ulje', '.', 'Dodajte', 'luk', 'i', 'češnjak', 'te', 'kratko', 'vrijeme', 'pržite', 'patlidžan', 'timijan', 'lagano', 'kuhajte', 'Zatim', 'dodajte', 'papriku', ',', 'tikvicu', 'bundevu', 'oko', '5', 'minuta', 'svježe', 'sušene', 'rajčice', 'grah', 'povrtni', 'temelja', 'limunov', 'sok', 'sol', 'Juhu', 'maknite', 's', 'vatre', 'ostavite', 'da', 'se', 'ohladi', 'Smjesu', 'stavite', 'u', 'Nutribullet', 'ekstrahirajte']\n",
            "['Dodajte', 'sve', 'sastojke', 'u', 'visoku', 'Nutribullet', 'šalicu', 'i', 'ekstrahirajte', 'oko', '30', 'sekundi', '.', 'Nakon', 'toga', 'preostaje', 'samo', 'uživanje']\n",
            "['Kada', 'su', 'svi', 'sastojci', 'kuhani', 'dodajte', 'ih', 'u', 'visoku', 'Nutribullet', 'šalicu', 'i', 'ekstrahirajte', 'oko', '30', 'sekundi', '.', 'Nakon', 'toga', 'preostaje', 'samo', 'uživanje']\n",
            "['Dodajte', 'sve', 'sastojke', 'u', 'NutriBullet', 'Rx', 'i', 'pokrenite', 'ciklus', 'za', 'grijanje', 'od', '7', 'minuta', '.', 'Uživajte', 'ukusnoj', 'juhi']\n",
            "['Dodajte', 'sve', 'sastojke', 'u', 'NutriBullet', 'Rx', 'i', 'pokrenite', 'ciklus', 'za', 'grijanje', 'od', '7', 'minuta', '.', 'Uživajte', 'ukusnoj', 'juhi']\n",
            "['Dodajte', 'sve', 'sastojke', 'u', 'NutriBullet', 'Rx', 'i', 'pokrenite', 'ciklus', 'za', 'grijanje', 'od', '7', 'minuta', '.', 'Uživajte', 'ukusnoj', 'juhi']\n",
            "['U', 'manju', 'tavu', 'dodajte', 'ulje', 'od', 'avokada', 'i', 'luk', 'te', 'pirjajte', '4', 'minute', '.', 'Nakon', 'toga', 'češnjak', 'još', '2', 'Ohladite', 'Dodajte', 'sve', 'sastojke', 'u', 'NutriBullet', 'Rx', 'pokrenite', 'ciklus', 'za', 'grijanje', '7', 'minuta', 'Uživajte', 'ukusnoj', 'juhi']\n",
            "['U', 'velikoj', 'posudi', 'zagrijte', 'maslinovo', 'ulje', '.', 'Narežite', 'luk', ',', 'mrkvu', 'i', 'češnjak', 'Pržite', 'povrće', 'na', 'zagrijanom', 'ulju', 'dodajte', 'sol', 'kako', 'bi', 'prije', 'pustilo', 'vodu', 'Ocijedite', 'operite', 'grah', 'pa', 'ga', 'sotiranom', 'povrću', 'sjeckane', 'rajčice', 'ružmarin', 'temeljac', 'Pustite', 'da', 'zakuha', 'te', 'potom', 'smanjite', 'vatru', 'kuhajte', '15', '-', '20', 'minuta', 'Zatim', 'narezani', 'kelj', 'Kušajte', 'po', 'potrebi', 'doradite', 'okus', 'solju', 'paprom', 'Zagrijte', 'pećnicu', '200', '°C', 'Posložite', 'šnite', 'kruha', 'juhu', 'posipajte', 'ribani', 'sir', 'sve', 'stavite', 'u', 'samo', 'se', 'kruh', 'tostira', 'a', 'otopi']\n",
            "['Leću', 'namočiti', 'barem', '6', 'sati', 'prije', 'pripreme', 'jela', '.', 'dodati', 'u', 'hladnu', 'vodu', 'i', 'kuhati', 'cca', '20', 'minuta', 'nakon', 'što', 'proključa', 'na', 'laganoj', 'vatri', '(', 'dok', 'se', 'voda', 'ne', 'apsorbira', ')', 'U', 'širokom', 'loncu', 'zagrijati', 'maslinovo', 'ulje', ',', 'curry', 'prahu', 'sjeckani', 'luk', 'mrkvu', 'te', 'dinstajte', '5', 'po', 'potrebi', 'zaliti', 's', 'malo', 'vode', 'Dodajte', 'pastu', 'kokosovo', 'mlijeko', 'kuhajte', 'desetak', 'mrkva', 'omekša', 'Ubacite', 'leću', 'pa', 'začinite', 'solju', 'paprom', 'želji', 'Poslužite', 'rižu', 'uz', '``', 'Naan', \"''\", 'kruh', 'pospite', 'svježim', 'korijanderom']\n",
            "['Mrkvu', 'ogulite', 'i', 'narežite', 'na', 'kockice/komadiće', 'podjednake', 'veličine', '.', 'Na', 'sitno', 'nasjeckajte', 'luk', 'U', 'dubljem', 'loncu', 'zagrijte', 'kokosovo', 'ulje', ',', 'dodajte', 'mali', 'prstohvat', 'čili', 'pahuljica', 'nakon', 'minute', 'sjeckani', 'pa', 'ga', 'pirjajte', 'nekoliko', 'minuta', 'dok', 'ne', 'postane', 'staklast', 'Dodajte', 'češnjak', 'još', 'minutu', 'dvije', 'potom', 'curry', 'pastu', 'ili', 'prah', 'promiješajte', 'da', 'zamiriši', 'Potom', 'ribani', 'đumbir', 'smeđi', 'šećer', 'propirjajte', 'narezanu', 'mrkvu', 'Zalijte', 'vrućom', 'vodom', 'tako', 'voda', 'prekrije', 'Posolite', 'Kuhajte', '30', '-', '35', 'sve', 'mrkva', 'skroz', 'omekša', 'Kad', 'je', 'kuhana', 'lonac', 'maknite', 's', 'vatre', 'žlicu', 'kikiriki', 'maslaca', 'te', 'štapnim', 'mikserom', 'pretvorite', 'u', 'gusti', 'pire', 'mlijeko', 'jednom', 'kratko', 'ispirjajte', 'Po', 'potrebi', 'malo', 'vode', 'dodatno', 'začinite', 'po', 'ukusu', 'Poslužite', 'dubokim', 'tanjurima', 'zdjelicama', 'prošarajte', 'kokosovim', 'mlijekom', 'želji', 'posipajte', 'sjeckanim', 'kikirikijem']\n",
            "['Ogulite', 'i', 'očistite', 'tikvu', ',', 'isjeckajte', 'ju', 'na', 'komadiće', 'stavite', 'u', 'lonac', '.', 'Dodajte', 'malo', 'soli', 'Tikvu', 'pecite', '15', 'minuta', '200', '°C', 'kako', 'bi', 'omekšala', 'Izvadite', 'tanjur', 'a', 'dodajte', 'kap', 'ulja', 'luk', '1', 'žlice', 'kurkume', 'češnjak', 'te', 'sve', 'zajedno', 'ispirjajte', 'Vratite', 'promiješajte', 'temeljac', 'od', 'povrća', 'kokosovo', 'mlijeko', 'cayennskog', 'papra', 'Sve', 'izblendajte', 'Kao', 'dekoraciju', 'kod', 'serviranja', 'juhe', 'možete', 'koristiti', 'klice']\n",
            "['Kockice', 'luka', 'propržiti', 'na', 'masnoći', ',', 'dodati', 'sjeckani', 'češnjak', 'komadiće', 'mrkve', 'i', 'celera', '.', 'Kratko', 'sve', 'meso', 'narezano', 'kocke', 'Sve', 'začiniti', 'solju', 'paprom', 'crvenom', 'paprikom', '(', 'slatkom', 'ljutom', ')', '-', 'po', 'želji', 'te', 'lovorov', 'list', 'Propirjati', 'da', 'pusti', 'sok', 'crveno', 'vino', 'koncentrat', 'rajčice', 'Pirjati', 'ispari', 'zaliti', 'vodom', 'Kuhati', 'dok', 'ne', 'omekša', 'gulaš', 'zgusne', 'podlijevati', 'potrebi', 'U', 'gotovi', 'nasjeckani', 'peršina']\n",
            "['Pripremite', 'gljive', ',', 'očistite', 'ih', 'i', 'narežite', 'bukovače', 'na', 'trake', 'a', 'šampinjone', 'četvrtine', '.', 'Luk', 'što', 'sitnije', 'mrkvu', 'celer', 'naribajte', 'Na', 'vrućem', 'ulju', 'pirjajte', 'luk', 'dok', 'ne', 'postane', 'staklast', 'Dodajte', 'ribanu', 'zalijte', 's', 'malo', 'temeljca', 'pustite', 'da', 'sve', 'pirja', 'jedno', '10', 'minuta', 'dva', 'lista', 'suhog', 'lovora', 'te', 'režnja', 'sitno', 'sjeckanog', 'češnjaka', 'još', '2-3', 'minute', 'U', 'pripremljenu', 'smjesu', 'dodajte', 'mješavinu', 'gljiva', 'poklopljeno', 'srednje', 'jakoj', 'vatri', 'začine', 'chilli', 'prah', 'dvije', 'žličice', 'slatke', 'paprike', '1', 'dcl', 'pasirane', 'rajčice', 'Posolite', 'popaprite', 'pirjati', '30', 'gulaš', 'sjeckani', 'list', 'peršina', 'Maknite', 'vatre', 'odstoji', 'Gulaš', 'poslužite', 'uz', 'aromatičnu', 'palentu', '(', 'skuhajte', 'po', 'naputcima', 'pakiranja', 'ali', 'dodatak', 'maslinova', 'ulja', 'majčine', 'dušice', ')']\n",
            "['Dodajte', 'sve', 'sastojke', 'u', 'svoju', 'Nutribullet', 'šalicu', 'i', 'ekstrahirajte', 'oko', '30', 'sekundi', '.', 'Juhu', 'prebacite', 'lončić', 'stavite', 'ju', 'na', 'umjerenu', 'vatru', 'Kuhajte', 'dok', 'juha', 'ne', 'zavrije']\n",
            "['1.Operite', 'povrće', '.', 'Isperite', 'bilje', 'pod', 'vodom', 'i', 'zamotajte', 'ga', 'koncem', '2.Odaberite', 'DIY', 'funkciju', 'postavite', 'vrijeme', 'na', '120', 'minuta', '3.Ulijte', 'vodu', 'u', 'kuhalo', ',', 'dodajte', 'meso', 'kosti', 'te', 'svo', 'začinsko', 'Pritisnite', 'Start', '4.Nakon', 'otprilike', '15', 'voda', 'će', 'prokuhati', 'odmah', 'smanjiti', 'temperaturu', 'sa', '100', '90', '°C', 'dopuštajući', 'juhi', 'da', 'lagano', 'prokuha', '5.Za', 'juhu', 's', 'manje', 'masnoće', 'najprije', 'je', 'ohladite', 'spremite', 'hladnjak', 'a', 'kad', 'se', 'vrhu', 'skupi', 'bijela', 'mast', 'izvadite', 'Zatim', 'ju', 'ponovno', 'zagrijte', 'poslužite', 'A', 'možete', 'dodati', 'domaće', 'rezance']\n",
            "['Korak', '1', 'Sitno', 'nasjeckani', 'crveni', 'luk', 'popržite', 'na', 'ulju', ',', 'dodajte', 'sugo', 'meso', 'narezano', 'komadiće', 'te', 'prethodno', 'skuhanu', 'tjesteninu', '.', 'Dobro', 'promješajte', '2', 'Smjesu', 'stavite', 'u', 'namazani', 'protvan', 'Posebno', 'razmutite', 'jaja', 's', 'vrhnjem', 'sol', 'papar', 'timjan', 'muškatni', 'oraščić', 'i', 'sitno', 'češnjak', 'Smjesom', 'prelijte', 'mesom', 'Pecite', 'pola', 'sata', '200°C']\n",
            "['20', 'g', 'svježeg', 'kvasca', '(', 'ili', 'vrećica', 'suhog', ')', '2-3', 'žlice', 'tople', 'vode', '1', 'žličica', 'šećera', '320', 'Pšeničnog', 'glatkog', 'brašna', 'soli', 'maslinova', 'ulja', 'oko', '200', 'ml', 'NADJEV', 'tijesto', ',', 'rajčica', 'sol', 'papar', 'šunka', 'za', 'pizzu', 'i', 'šampinjoni', 'peći', 'na', '180', 'stupnjeva', 'otprilike', 'minuta']\n",
            "['Ugrijte', 'pećnicu', 'na', '165°C', '.', 'Stavite', 'rebrica', 'u', 'protvan', 'U', 'posudi', 'dobro', 'izmiješajte', 'ostale', 'sastojke', 'i', 'prelijte', 'goveđa', 'rebra', 'Pecite', '3', 'h', 'ili', 'dok', 'ne', 'omekšaju']\n",
            "['ripremite', 'povrće', 'luk', ',', 'crvenu', 'papriku', 'i', 'češnjak', 'nasjeckajte', 'na', 'kockice', '.', 'Sve', 'stavite', 'u', 'lonac', 'koji', 'ste', 'prethodno', 'stavili', 'ulje', 'pripremajte', 'vatri', 'srednje', 'jačine', 'Dodajte', 'kuhajte', 'povremeno', 'miješajući', '5', 'minuta', 'ili', 'dok', 'ne', 'omekša', 'crvene', 'paprike', 'čili', 'prahu', 'mljeveni', 'kumin', 'Dobro', 'promiješajte', 'još', 'mljeveno', 'meso', 'pojačajte', 'vatru', 'Nastavite', 'miješati', 'najmanje', 'kada', 'je', 'gotovo', 'neće', 'biti', 'roze', 'boje', 'U', '1,2', 'l', 'vode', 'otopite', '4', 'goveđe', 'kocke', 'za', 'temeljac', 'a', 'zatim', 'ulijte', 'dodajte', 'rajčice', 'narezane', 'sušeni', 'mažuran', 'šećer', 'sol', 'papar', 'Zatim', 'pire', 'od', 'sve', 'dobro', 'Lagano', 'pirjajte', 'poklopite', 'Pustite', 'da', 'proključa', 'smanjite', 'ostavite', '20', 'Povremeno', 'provjeravajte', 'umak', 'po', 'potrebi', 'kako', 'se', 'bi', 'zalijepio', 'dno', 'lonca', 'Ukoliko', 'to', 'dogodi', 'nekoliko', 'žlica', 'najmanju', 'jačinu', 'vatre', 'Nakon', 'laganog', 'pirjanja', 'trebao', 'gust', 'sočan', 'grah', 'lagano', 'ga', 'umiješajte', 'Ostavite', 'ponovno', 'počne', 'ključati', '10', 'Ne', 'stavljajte', 'poklopac', 'izgleda', 'pregusto', 'malo', 'Probajte', 'začinite', 'ga.', 'Vjerojatno', 'ćete', 'trebati', 'začiniti', 'više', 'nego', 'što', 'mislite', 'Sad', 'ugasite', 'odstoji', 'prije', 'serviranja', 'Ovo', 'zaista', 'važno', 'svi', 'okusi', 'izmiješali', 'Poslužite', 's', 'kiselim', 'vrhnjem', 'kuhanom', 'rižom', 'dugog', 'zrna']\n",
            "['Piletinu', 'očistite', 'i', 'osušite', '.', 'Kožicu', 'mesa', 'posolite', 'popaprite', 'U', 'tavi', 'za', 'pečenje', ',', 'na', 'srednje', 'jakoj', 'vatri', 'zagrijte', 'nekoliko', 'kapi', 'ulja', 'Meso', 'stavite', 'u', 'tavu', 'tako', 'da', 'je', 'kožica', 'okrenuta', 'donju', 'stranu', 'Zatim', 'začinite', 'gornju', 'Pecite', 'nepoklopljeno', '30', 'minuta', 'Kožica', 'će', 'postepeno', 'dobivati', 'zlatnu', 'boju', 'a', 'masnoća', 'ostajati', 'Nakon', 'do', '35', 'meso', 'pažljivo', 'okrenite', 'drugu', '10', 'dodajte', 'cherry', 'rajčice', 'tikvice', 'koje', 'ste', 'prethodno', 'narezali', 'četvrtine', 'gljive', 'isto', 'prstohvat', 'crvene', 'paprike', 'dok', 'sve', 'ne', 'bude', 'gotovo', 'povrće', '15', '20', 'Za', 'prilog', 'ispecite', 'krumpire', 'izrezane']\n",
            "['U', 'zdjeli', 'pomiješajte', 'brašno', ',', 'piletinu', 'i', 'žumanjak', '.', 'Ostavite', 'da', 'se', 'meso', 'u', 'hladnjaku', 'marinira', '20', 'minuta', 'Dok', 'Nutribullet', 'ekstrahirajte', 'luk', 'karfiol', 'Pecite', 'na', 'ulju', 'avokada', 'Nakon', 'što', 'ste', 'ispekli', 'dodajte', 'još', 'jednu', 'žlicu', 'ulja', 'prepržite', 'rižu', 'lončiću', 'izmiješajte', 'narančin', 'sok', 'narančinu', 'koricu', 'đumbir', 'ulje', 'sezama', 'med', 'sol', 'te', 'kuhajte', 'dok', 'ne', 'dobijete', 'gustu', 'smjesu', 'Dodajte', 'čajnu', 'žličicu', 'sezamova', 'ispecite', 'kajganu', 'Stavite', 'tavu', 'pržite', 'umjerenoj', 'vatri', 'Rižu', 'stavite', 'tanjur', 'ukrasite', 'ju', 'mladim', 'lukom', 'sjemenkama', 'Zatim', 'preostale', 'sastojke']\n",
            "['Luk', ',', 'češnjak', 'peršin', 'i', 'slaninu', 'sitno', 'nasjeckajte', 'dodajte', 'ih', 'mljevenom', 'mesu', '.', 'Dodajte', 'rižu', 'pa', 'sve', 'začinite', 'solju', 'paprom', 'paprikom', 'Dobro', 'izmiješajte', 'Odvojite', 'listove', 's', 'glavice', 'kiselog', 'zelja', 'te', 'operite', 'pod', 'mlazom', 'hladne', 'vode', 'ukoliko', 'su', 'prekiseli', 'slani', 'Debelu', 'žilu', 'na', 'sredini', 'svakog', 'lista', 'stanjite', 'nožem', 'Nadjenite', 'svaki', 'list', 'sa', 'žlicom', 'mljevenog', 'mesa', 'umotajte', 'sarmu', 'Preostale', 'manje', 'Na', 'dno', 'lonca', 'stavite', 'malo', 'nasjeckanih', 'listova', 'suhog', 'a', 'njih', 'složite', 'sarme', 'Prekrijte', 'još', 'nasjeckanog', 'Dolijte', 'tako', 'da', 'prekrije', 'kuhati', 'umjerenu', 'vatru', 'oko', '2', 'sata', 'Povremeno', 'protresite', 'lonac', 'ali', 'nemojte', 'miješati', 'Pred', 'kraj', 'kuhanja', 'pasiranu', 'rajčicu', 'Kuhane', 'poslužite', 'uz', 'kiselo', 'vrhnje', 'prilog', 'po', 'želji']\n",
            "['Piletinu', 'očistite', 'od', 'masnoća', 'i', 'narežite', 'na', 'komade', '.', 'Luk', ',', 'češnjak', 'peršin', 'nasjeckajte', 'U', 'velikoj', 'dubokoj', 'tavi', 'pirjajte', 'luk', 'maslinovom', 'ulju', 'Kad', 'omekša', 'dodajte', 'te', 'nastavite', 'pirjati', 'dok', 'ne', 'dobije', 'boju', 'Poslažite', 'mesa', 'sve', 'malo', 'pomiješajte', 'meso', 'postane', 'zlatne', 'boje', 'Povremeno', 'ga', 'okrenite', 'uhvati', 'prošek', 'lovorov', 'list', 'suhe', 'šljive', 'smanjite', 'vatru', 'kuhajte', 'alkohol', 'ispari', 'Dodajte', 'pasiranu', 'rajčicu', 'sol', 'papar', 'toliko', 'dugo', 'umak', 'jako', 'gust', 'oko', 'sat', 'pol', 'vremena', 'Poslužite', 'jelo', 'uz', 'domaću', 'tjesteninu']\n",
            "['Dok', 'se', 'friteza', 'grije', 'na', '175', '°C', 'piletinu', 'marinirajte', 'u', 'BBQ', 'umaku', 'te', 'ju', 'nakon', 'toga', 'pecite', '22', '-', '25', 'minuta', '.', 'Protresite', 'svakih', '7-8-', 'kako', 'piletina', 'ne', 'bi', 'zalijepila', 'Šparoge', 'začinite', 's', 'uljem', 'i', 'soli', 'po', 'ukusu', 'Pecite', 'ih', '3', 'minute', 'fritezi', 'Pomiješajte', 'parmezan', 'krušne', 'mrvice', 'izvadite', 'šparoge', 'iz', 'friteze', 'protresite', 'Uvaljajte', 'smjesu', 'parmezana', 'krušnih', 'mrvica', 'vratite', 'fritezu', 'još', '4-5', 'Nakon', 'pečenja', 'želji', 'posolite', 'dodajte', 'maslinovo', 'ulje']\n",
            "['Marinirajte', 'meso', 'u', 'marinadi', 'od', 'maslinovog', 'ulja', ',', 'soli', 'papra', 'mažurana', 'i', 'ružmarina', '.', 'Namjestite', 'kuhalo', 'na', 'program', '15', 'minuta', '120', '°C', 'Dodajte', 'malo', 'prepržite', 's', 'obje', 'strane', 'Nakon', 'toga', 'smanjite', 'temperaturu', '80', 'mesu', 'dodajte', 'vino', 'narezanu', 'ljutiku', 'lovorov', 'list', 'te', 'ga', 'kuhajte', '6', 'sati', 'Po', 'završetku', 'rastrgajte', 'nožem', 'vilicom']\n",
            "['Na', 'multifunkcionalnom', 'kuhalu', 'odaberite', 'DIY', 'opciju', 'od', '120', '°C', 'na', '45', 'minuta', '.', 'U', 'multifunkcionalno', 'kuhalo', 'dodajte', 'žlicu', 'ulja', 'i', 'narezani', 'luk', 'Stalno', 'miješajte', 'kako', 'ne', 'bi', 'zagorio', 'Dodajte', 'u', 'meso', 'te', 'kuhajte', '10', 'miješajući', 'začine', ',', 'vino', 'pasiranu', 'rajčicu', 'temeljac', 'Kuhajte', 'stalno', 'dok', 'dobijete', 'gust', 'umak']\n",
            "['U', 'posudi', 'sjedinimo', 'sve', 'sastojke', '.', 'Krilca', 'posolimo', ',', 'popaprimo', 'i', 'pospemo', 'mljevenom', 'paprikom', 'Pileća', 'krilca', 'mariniramo', 'preko', 'noći', 'Nakon', 'pečenja', 'limunom', 'Ostatak', 'marinade', 'reduciramo', 'polijemo', 'krilaca', 'Služimo', 'uz', 'sezonsku', 'salatu']\n",
            "['Steak', 'začinite', 'paprom', 'soli', 'i', 'maslinovim', 'uljem', 'te', 'ga', 'ispecite', 'na', 'električnom', 'roštilju', '.', 'Za', 'džem', 'narežite', 'crveni', 'luk', ',', 'chili', 'papričice', 'cherry', 'rajčice', 'dodajte', 'aceto', 'balsamico', 'sve', 'to', 'kuhajte', 'laganoj', 'vatri', 'dok', 'se', 'ne', 'sjedini', 'umak', 'pomiješajte', 'majonezu', 'senf', 'Džem', 'namažite', 'kruh', 'narezanu', 'salatu', 'steak']\n",
            "['Promiješajte', 'junetinu', 's', 'mrkvom', 'i', 'tikvicom', 'naribanom', 'na', 'sitnoj', 'strani', 'ribeža', '.', 'Dodajte', 'češnjak', 'začine', ',', 'te', 'ravnomjerno', 'izradite', 'smjesu', 'špatulom', 'ili', 'kuhačom', 'Izradite', 'kuglice', 'veličine', 'zelenog', 'oraha', 'posložite', 'u', 'fritezu', 'vrući', 'zrak', 'malo', 'posprejajte', 'premažite', 'uljem', 'pa', 'zapecite', '200', '°C', '15', 'minuta', 'Od', 'ostatka', 'mesa', 'napravite', 'samose', 'tako', 'da', 'ih', 'zamotate', 'trokute', 'od', 'listova', 'za', 'štrudle', 'izrezanih', 'trakice', 'premažete', 'zapečete', 'također']\n",
            "['Narezati', 'piletinu', 'i', 'povrće', 'na', 'kockice', 'jednake', 'veličine', 'te', 'ih', 'slagati', 'po', 'redu', 'štapiće', 'za', 'ražnjiće', '.', 'Ražnjiće', 'premazati', 'marinadom', 'od', 'maslinovog', 'ulja', ',', 'meda', 'soja', 'sosa', 'papra', 'peći', 'električnom', 'roštilju', 'redovno', 'okretati', 'mazati', 'dok', 'se', 'piletina', 'ne', 'ispeče', 'Poslužiti', 'uz', 'umak', 'koji', 'ste', 'napravili', 'miješajući', 'vrhnje', 'sitno', 'nasjeckani', 'vlasac']\n",
            "['Najprije', 'napravite', 'umak', 'od', 'jogurta', 'u', 'zdjelici', 'izmiješajte', 'jogurt', ',', 'sitno', 'sjeckani', 'ili', 'protisnuti', 'češnjak', 'sve', 'začine', 'i', 'sok', 'limuna', '.', 'Poklopite', 'stavite', 'hladnjak', 'ohladite', 'U', 'zdjelu', 'mljeveno', 'pureće', 'meso', 'dodajte', 'naribane', 'dobro', 'iscijeđene', 'tikvice', '(', 'nemojte', 'guliti', 'koru', ')', 'jaje', 'pa', 'Mokrim', 'rukama', 'oblikujte', 'veće', 'polpetice', 'okruglice', 'Okruglice', 'složite', 'airfryer', 'pecite', 'ih', '15', 'minuta', 'na', '200', '°C', 'Pečene', 'poslužite', 'uz', 'lagano', 'pokapajte', 'maslinovim', 'uljem', 'pospite', \"za'atarom\"]\n",
            "['Krumpir', 'i', 'mrkvu', 'ogulite', ',', 'narežite', 'na', 'kriške', 'kuhajte', 'u', 'kipućoj', 'posoljenoj', 'vodi', '10-ak', 'minuta', 'pa', 'ih', 'ocijedite', '.', 'Piletinu', 'dobro', 'natrljajte', 'solju', 'sa', 'svih', 'strana', 'stavite', 'prikladnu', 'posudu', 'za', 'pečenje', 's', 'kožicom', 'prema', 'gore', 'Uz', 'piletinu', 'blanširani', 'krumpir', 'te', 'nekoliko', 'režnjeva', 'češnjaka', 'prelijte', 'rastopljenim', 'maslacem', 'a', 'povrće', 'vinom', 'maslinovim', 'uljem', 'po', 'potrebi', 'posolite', 'popaprite', 'Dodajte', 'timijan', 'listove', 'kadulje', 'pecite', '35', '-', '40', 'pećnici', 'zagrijanoj', '200', '°C', 'Poslužite', 'uz', 'salatu']\n",
            "['Piletinu', '(', 'ili', 'tofu', ')', 'narežite', 'na', 'podjednake', 'kockice', 'veličine', 'zalogaja', 'trakice', ',', 'prebacite', 'ju', 'u', 'zdjelicu', 'i', 'prelijte', 's', '2', 'žlice', 'soja', 'umaka', '.', 'Promiješajte', 'pustite', 'da', 'se', 'piletina', 'marinira', 'dok', 'pripremite', 'povrće', 'Paprike', 'tikvice', 'narežete', 'štapiće', 'a', 'šampinjone', 'četvrtine', 'Sitno', 'nasjeckajte', 'češnjak', 'đumbir', 'sitne', 'možete', 'ga', 'naribati', 'Mladi', 'luk', 'očistite', 'pa', 'dijagonalno', 'ploškice', 'uključujući', 'zeleni', 'dio', 'U', 'manjoj', 'zdjelici', 'umak', 'stavite', 'prvo', 'škrob', 'kojeg', 'razmutite', 'malo', 'vode', 'potom', 'dodajte', 'med', 'metlicom', 'ostatak', 'sve', 'dobro', 'promiješajte', 'woku', 'dubljoj', 'tavi', 'zagrijte', 'ulje', 'pomiješajte', 'kokosovo', 'sezamovo', 'pržiti', 'piletinu', 'nakon', 'minutu', 'pržite', 'oko', '5', 'minuta', 'Izvadite', 'iz', 'woka', 'sa', 'strane', 'istom', 'jakoj', 'vatri', 'ostalo', 'po', 'potrebi', 'wok', 'još', 'ulja', 'Povrće', 'ovim', 'redom', 'dobiju', 'žućkastu', 'boju', '6', '-', '7', 'obje', 'paprike', '3', 'minute', 'njih', 'kraju', 'te', 'zajedno', '1', 'Vratite', 'zalijte', 'pripremljenim', 'umakom', 'ne', 'zgusti', 'Na', 'samom', 'narezani', 'mladi', 'sezamove', 'sjemenke', 'Paralelno', 'drugom', 'loncu', 'rižine', 'rezance', 'prema', 'naputku', 'pakiranju', 'Rižine', 'ocijedite', 'ubacite', 'posipajte', 'sjeckanim', 'korijanderom', 'odmah', 'poslužite']\n",
            "['Pomiješajte', 'sol', 'i', 'papar', ',', 'suncokretove', 'sjemenke', 'sezam', 'meso', 'te', 'oblikujte', 'pljeskavice', '.', 'Narežite', 'povrće', 'po', 'vašem', 'izboru', 'na', 'tanke', 'ploške', 'Karamelizirajte', 'pecivo', 'električnom', 'roštilju', 'Joy', 'dodajte', 'Ispecite', 'pred', 'kraj', 'njega', 'stavite', 'cheddar', 'sir', 'kako', 'bi', 'se', 'otopio', 'Na', 'peciva', 'namažite', 'miks', 'ketchupa', 'majoneze', 'pljeskavicu', 'Dobar', 'tek']\n",
            "['Zagrijte', 'električni', 'roštilj', 'Joy', 'i', 'postavite', 'peciva', 'kako', 'bi', 'se', 'zagrijala', '.', 'Naulijte', 'pljeskavice', 'ih', 'na', 'zajedno', 'sa', 'slaninom', 'chilli', 'lukom', 'Peciva', 'maknite', 's', 'roštilja', 'ne', 'zagorila', 'te', 'okrenite', 'slaninu', 'luk', 'drugu', 'stranu', 'Umak', 'po', 'želji', 'namažite', 'obije', 'strane', 'Maknite', 'par', 'minuta', 'kasnije', 'možete', 'maknuti', 'Dodajte', 'cheddar', 'sir', 'rastopio', 'Ispecite', 'jedno', 'jaje', 'oko', 'salatu', 'složite', 'svoje', 'burgere', 'Dobar', 'tek']\n",
            "['PRIPREMA', 'Sve', 'sastojke', 'očistiti', 'nasjeckati', '.', 'Dobro', 'sve', 'promješati', 'Pržiti', 'u', 'fritezi', 'na', 'vrući', 'zrak', '12', '-', '14', 'min', '175', '°C', 'i', '3', 'puta', 'promiješati']\n",
            "['Pomiješajte', 'sve', 'sastojke', 'zajedno', 'i', 'formirajte', 'ih', 'rukama', 'u', 'okruglice', '.', 'Smjestite', 'fritezu', 'na', 'vrući', 'zrak', ',', 'pazite', 'da', 'ne', 'dodiruju', 'jedna', 'drugu', 'Uključite', '200°C', 'pržite', '14', '-', '16', 'minuta', 'Poslužite', 'uz', 'omiljeni', 'umak']\n",
            "['Skuhani', 'krumpir', 'narežite', 'na', 'kocke', '.', 'Narežite', 'ostale', 'sastojke', 'i', 'pomiješajte', 's', 'krumpirom', 'začinima', 'Sve', 'zajedno', 'pecite', '20', 'minuta', '200', '°C', 'PODIJELI']\n",
            "['Jabuke', 'očistiti', 'i', 'isjeckati', ',', 'limun', 'ocijediti', '.', 'Sve', 'staviti', 'u', 'dublju', 'zdjelu', 'pomiješati', 's', '50', 'ml', '(', 'pola', 'pripremljene', 'količine', ')', 'vode', 'da', 'se', 'kuha', 'oko', '15', 'minuta', 'jabuke', 'omekšaju', 'Ukoliko', 'je', 'pekmez', 'tvrd', 'ispasirati', 'ga.', 'U', 'međuvremenu', 'karamelizirati', '300', 'g', 'šećera', 'na', 'srednjoj', 'temperaturi', 'tako', 'postane', 'svejtlo', 'smeđe', 'boje', 'Karamelu', 'dodati', 'jabukama', 'te', 'smjesu', 'preostalih', '700', 'pustiti', 'još', 'jednom', 'provri', 'uz', 'povremeno', 'mješanje', 'ostaviti', '5', 'Masa', 'treba', 'postati', 'kremasta', 'Gotov', 'odmah', 'sipati', 'vruće', 'tegle', 'dobro', 'zatvoriti', 'ohladi']\n",
            "['1', '.', 'U', 'zdjeli', 'izmiksajte', 'žumanjke', 'dok', 'smjesa', 'ne', 'postane', 'blijeda', 'i', 'povezana', '2', 'lončić', 'ulijte', 'slatko', 'vrhnje', ',', 'dodajte', 'kavu', 'te', 'zagrijte', 'na', 'laganoj', 'vatri', 'uz', 'miješanje', 'gotovo', 'zavre', '3', 'počnite', 'polako', 'ulijevati', 'umućene', 'konstantno', 'kuhačom', '4', 'Dodajte', 'konjak', 'nastavite', 'miješati', 'dobijete', 'gustu', 'kremu', 'poput', 'pudinga', '5', 'Čokoladu', 'otopite', 'pari', 'kakao', 'u', 'prahu', 'Potpuno', 'otopljenu', 'čokoladu', 'sve', 'dobro', 'izmiješajte', 'se', 'poveže', 'ostavite', 'da', 'malo', 'ohladi', '6', 'Smjesu', 'plastične', 'posude', 'stavite', 'zamrzivač', 'sata', '7', 'Nakon', 'izvadite', 'sladoled', 'iz', 'zamrzivača', 'blenderu', 'ga', 'tako', 'poluzamrznutog', 'vratite', 'posudu', 'zamrzne', 'još', 'ili', 'preko', 'noći']\n",
            "['U', 'velikoj', 'zdjeli', 'pomiješajte', 'brašno', 'i', 'prašak', 'za', 'pecivo', '.', 'smjesu', ',', 'dodajte', 'rastopljeni', 'maslac', 'med', 'šećer', 'jaja', 'začine', 'dobro', 'promješajte', 'mikserom', 'Tijesto', 'oblikujte', 'u', 'kuglice', 'ili', 'druge', 'željene', 'oblike', 'stavite', 'pećnicu', 'na', '15', 'minuta', 'temperaturu', 'od', '150', 'do', '175', 'stupnjeva', 'Celzijusa', 'Tople', 'medenjake', 'kraju', 'prelijte', 'mješavinom', 'vode', 'limunovog', 'soka', 'malo', 'šećera', 'Kada', 'se', 'kolačići', 'ohlade', 'spremite', 'ih', 'metalnu', 'kutiju', 'zatvorite', 'da', 'duže', 'ostanu', 'sočni', 'svježi']\n",
            "['Izmiksati', 'snijeg', 'od', 'bjelanjka', 's', 'malo', 'soli', '.', 'U', 'drugoj', 'posudi', 'miksati', 'žumanjke', 'sa', 'šećerom', 'oko', 'pet', 'minuta', ',', 'dodati', 'otopljenu', 'čokoladu', 'maslacom', 'izmiješati', 'i', 'postepeno', 'umiješati', 'brašno', 'praškom', 'za', 'pecivo', 'na', 'kraju', 'umiksati', 'trećinu', 'snijega', 'u', 'smjesu', 'a', 'ostatak', 'lagano', 'kuhačom', 'Izliti', 'lim', 'veličine', 'cca', '20x30', 'cm', 'peći', '180°C', '15-20', 'Kad', 'se', 'ohladi', 'premazati', 'šlagom', 'naslagati', 'jagode', 'po', 'želji', 'slast']\n",
            "['U', 'zdjelu', 'za', 'miksanje', 'stavite', 'jaja', 'i', 'šećer', 'izmiksajte', 'ručnim', 'mikserom', '.', 'Dodajte', 'brašno', 'manju', 'posudu', 'med', 'miješajte', 'ga', 'na', 'laganoj', 'vatri', '(', 'ne', 'direktno', ',', 'držite', 'iznad', 'vatre', ')', 'Kada', 'se', 'otopi', 'ulijte', 'u', 's', 'brašnom', 'maslac', 'koji', 'ste', 'prethodno', 'otopili', 'ohladili', 'začin', 'medenjake', 'Sastojke', 'dobro', 'pomiješajte', 'rukama', 'Dobiveno', 'tijesto', 'zamotajte', 'prozirnu', 'foliju', 'ostavite', 'sobnoj', 'temperaturi', '24', 'sata', 'Sljedeći', 'dan', 'pobrašnite', 'radnu', 'površinu', 'razvucite', 'Razrežite', 'pomoću', 'kalupa', 'kolače', 'Medenjake', 'pekač', '35x25', 'cm', 'stavili', 'papir', 'pečenje', 'Pecite', '7', 'do', '8', 'minuta', '200°C', 'da', 'ohlade', 'DEKORACIJA', 'Na', 'pari', 'otopite', 'čokoladu', 'margarin', 'Ostavite', 'malo', 'ohladi', 'Gornji', 'dio', 'medenjaka', 'umočite', 'Zatim', 'ih', 'ukrasite', 'šarenim', 'mrvicama', 'prije', 'posluživanja']\n",
            "['Zagrijte', 'pećnicu', 'na', '175', '°C', 'stupnjeva', '.', 'Izmiješajte', 'brašno', ',', 'puding', 'sodu', 'bikarbonu', 'sol', 'cimet', 'i', 'đumbir', 'U', 'drugoj', 'posudi', 'izmiješajte', 'maslac', 'te', 'bijeli', 'smeđi', 'šećer', 'Dodajte', 'u', 'mješavinu', 'jedno', 'po', 'jaje', 'vaniliju', 'pire', 'od', 'bundeve', 'promiješajte', 'Na', 'kraju', 'dodajte', 'brašna', 'Smjesu', 'stavite', 'kalupe', 'za', 'muffine', 'pecite', '20', 'minuta']\n",
            "['Izmiksajte', 'sve', 'sastojke', '(', 'osim', 'džema', 'od', 'jagode', 'i', 'graham', 'krekera', ')', 'u', 'velikoj', 'čaši', 'dok', 'se', 'sastojci', 'ne', 'povežu', '.', 'Smjesu', 'stavite', 'posudu', 'za', 'zamrzavanje', 'zajedno', 's', 'džemom', 'krekerima', 'lagano', 'ih', 'umiješajte', 'zamrznite', 'barem', 'na', '4', 'sata', 'ili', 'ulijte', 'tekuću', 'smjesu', 'bez', 'aparat', 'sladoled', 'prethodno', 'ga', 'uključite', 'da', 'već', 'radi', 'smjesa', 'postane', 'kremasta', 'glatka', 'Ako', 'koristite', ',', 'tijekom', 'zadnje', 'minute', 'dodajte', 'komadiće', 'keksa', 'miksajte', 'tek', 'toliko', 'umiješaju', 'Ili', 'isključite', 'premjestite', 'zgusnutu', 'zdjelicu', 'posluživanje', 'zatim', 'krekere', 'džem', 'Savjet', 'jače', 'zamrznut', 'ostavite', 'hladnjaku', '1', 'sat', 'prije', 'posluživanja', 'Ovaj', 'možete', 'čuvati', 'hermetički', 'zatvorenoj', 'posudi', 'do', 'tjedan', 'dana']\n",
            "['Dodajte', 'sve', 'sastojke', 'u', 'visoku', 'Nutribullet', 'šalicu', 'i', 'ekstrahirajte', 'oko', '30', 'sekundi', '.', 'Nakon', 'toga', 'preostaje', 'samo', 'uživanje']\n",
            "['Dodajte', 'sve', 'sastojke', 'u', 'visoku', 'Nutribullet', 'šalicu', 'i', 'ekstrahirajte', 'oko', '30', 'sekundi', '.', 'Nakon', 'toga', 'preostaje', 'samo', 'uživanje']\n",
            "['U', 'zdjeli', 'za', 'miksanje', 'pomiješajte', 'šećer', ',', 'maslac', 'jaja', 'brašno', 'i', 'prašak', 'pecivo', '.', 'Miksajte', 'ih', 'ručnim', 'mikserom', 'dok', 'ne', 'dobijete', 'tijesto', 'Koristite', 'poklopac', 'kako', 'biste', 'se', 'zaštitili', 'od', 'prskanja', 'Kada', 'je', 'gotovo', 'odvojite', 'manju', 'količinu', '(', '20', 'do', '30', 'g', ')', 'oblikujte', 'ga', 'u', 'kuglice', 'Na', 'vrh', 'stavite', 'manje', 'komadiće', 'oraha/lješnjaka', 'ukoliko', 'želite', 'naribajte', 'nastavkom', 'ribanje', 'Pecite', 'pećnici', 'minuta', 'na', '200°C', 'međuvremenu', 'pripremite', 'sirup', 'kojeg', 'ćete', 'preliti', 'preko', 'kolačića', 'Za', 'potrebno', '750', 'ml', 'vode', '500', 'šećera', 'Pomiješajte', 'kuhajte', '2', 'minute', 'Pomoću', 'nastavka', 'limunovu', 'koricu', 'dodajte', 'kada', 'počne', 'ključati', 'su', 'kolačići', 'pečeni', 'prelijte', 'sirupom', 'ostavite', 'da', 'odstoje', 'sata']\n",
            "['Pećnicu', 'zagrijte', 'na', '190°C', '.', 'Pomiješajte', 'sve', 'sastojke', 'osim', 'jagoda', 'dok', 'ne', 'dobijete', 'glatku', 'smjesu', 'Dodajte', 'nasjeckane', 'jagode', 'i', 'promiješajte', 'Lim', 'za', 'muffine', 'napunite', 'dobivenom', 'smjesom', 'Pecite', '20', '–', '25', 'minuta']\n",
            "['Započnite', 's', 'tijestom', '.', 'Na', 'pari', 'otopite', 'čokoladu', 'maslacem', 'Razdvojite', 'bjelanjke', 'od', 'žumanjaka', 'i', 'posebno', 'ih', 'izmiksajte', 'ručnim', 'mikserom', 'U', 'umućene', 'žumanjke', 'dodajte', 'šlag', 'bjelanjaka', ',', 'maslac', 'zatim', 'brašno', 'sve', 'pomiješajte', 'žlicom', 'Pecite', 'u', 'kalupu', 'za', 'pečenje', 'promjera', '26', 'cm', '15', 'minuta', 'na', '180°C', 'Zatim', 'ostavite', 'da', 'se', 'potpunosti', 'ohladi', 'Mikserom', 'mascarpone', 'šećer', 'prahu', 'Odvojeno', 'kremu', 'a', 'sa', 'šećerom', 'mascarponeom', 'Smjesu', 'podijelite', '3', 'jednaka', 'dijela', 'posudi', 'čokolade', 'prvi', 'dio', 'mješavine', 'mascarponea', 'šećera', '100', 'g', 'bijele', 'drugi', '50', 'tamne', 'kako', 'biste', 'dobili', 'svijetlo', 'smeđu', 'boju', 'treći', '130', 'tamno', 'Tamno', 'smeđi', 'stavite', 'tijesto', 'preko', 'njega', 'vrh', 'bijeli', 'Ukrasite', 'ribanom', 'čokoladom', '(', 'naribajte', 'je', 'pomoću', 'nastavka', 'ribanje', ')', 'Kolač', 'hladnjak', '2', 'sata', 'poslužite']\n",
            "['Pomiješajte', 'sastojke', 'za', 'prvu', 'smjesu', ',', 'a', 'posudu', 'prekrijte', 'krpom', '.', 'Ostavite', 'ju', 'da', 'stoji', 'u', 'sobi', '2.30', 'do', '3', 'sata', 'ili', 'hladnjaku', 'preko', 'noći', 'Lagano', 'krenite', 'miješati', 'kvasac', 'mlijeko', 'brašno', 'šećer', 'sol', 'i', 'maslac', 'Postupno', 'povećavajte', 'brzinu', 'Kada', 'smjesa', 'postane', 'glatka', 'izvadite', 'iz', 'zdjele', 'omotajte', 'prozirnom', 'folijom', 'ostavite', '4', 'Smjesu', 'oblikujte', 'kroasane', 'stavite', 'na', 'lim', 'obložen', 'papirom', 'pečenje', 'žumanjke', 'vrhnje', 'te', 'time', 'premažite', 'Pećnicu', 'zagrijte', '200°C', 'Krosane', 'pecite', '20', '–', '22', 'minute', 'dok', 'ne', 'poprime', 'laganu', 'boju', 'Zatim', 'okrenite', '180', 'stupnjeva', 'još', '6', '8', 'minuta', 'kroasani', 'zlatnu']\n",
            "['Stavite', 'posudu', 'aparata', 'za', 'izradu', 'sladoleda', 'u', 'zamrzivač', '24', 'sata', 'prije', '.', 'Pomiješajte', 'sve', 'sastojke', 'dok', 'se', 'svi', 'ne', 'spoje', 'homogenu', 'masu', 'Ako', 'je', 'potrebnu', ',', 'smjesu', 'stavite', 'hladnjak', 'Smjesu', 'ulijte', 'aparat', 'i', 'miješajte', '17', 'do', '20', 'minuta', 'Kada', 'ste', 'gotovi', 'na', '6', 'sati', '30', 'posluživanja', 'ostavite', 'jogurt', 'da', 'stoji', 'sobnoj', 'temperaturi']\n",
            "['Kvasac', 'pomiješajte', 'sa', 'žlicom', 'brašna', ',', '1', 'dl', 'toplog', 'mlijeka', 'te', 'pustite', 'se', 'da', 'digne', '.', 'Preostalo', 'brašno', 'razradite', 's', 'maslacem', 'koricom', 'limuna', 'žumanjcima', 'jajem', 'kvascem', 'i', 'toplim', 'mlijekom', 'Zamijesite', 'tijesto', 'ostavite', 'diže', '40', 'minuta', 'Razvaljajte', 'izrežite', 'jednake', 'krugove', 'Na', 'krug', 'stavite', 'žlicu', 'marmelade', 'prekrijte', 'drugim', 'krugom', 'Kreirane', 'krafne', 'dižu', 'još', 'pola', 'sata', 'Krafne', 'pržite', 'u', 'vrućem', 'ulju', 'ih', 'prije', 'posluživannja', 'pospite', 'šećerom', 'prahu']\n",
            "['U', 'zdjeli', 'pomiješajte', 'maslac', ',', '1', 'i', '½', 'čašu', 'šećera', 'u', 'prahu', 'vaniliju', 'jaje', '.', 'Umiješajte', 'smjesu', 'brašno', 'sodu', 'bikarbonu', 'Smjesu', 'prekrijte', 'stavite', 'hladnjak', 'na', '2', 'do', '3', 'sata', 'Pećnicu', 'zagrijte', '190°C', 'Od', 'tijesta', 'oblikujte', 'srca', 'pecite', 'ih', '8', '10', 'minuta', 'Pomiješajte', 'milijeko', 'ostatak', 'kako', 'biste', 'napravili', 'glazuru', 'Po', 'želji', 'ukrasite', 'kolačiće', 'jestivim', 'ukrasima']\n",
            "['S', 'mikserom', 'umutite', 'jaja', 'i', 'polako', 'dodajte', 'ostale', 'sastojke', 'vanilin', 'šećer', ',', 'prstohvat', 'soli', '.', 'Naizmjence', 'mlijeko', 'brašno', 'kako', 'bi', 'smjesa', 'ostala', 'glatka', 'U', 'zdjelu', 'za', 'miksanje', 'ubacite', 'prašak', 'pecivo', 'ulje', 'ekstrakt', 'vanilije', 'Smjesu', 'izlijte', 'u', 'pekač', 'vafle', 'pecite', 'ovisno', 'volite', 'li', 'više', 'meke', 'ili', 'hrskave', 'Na', 'pečene', 'namažite', 'omiljeni', 'namaz', 'od', 'čokolade', 'pospite', 'drobljenim', 'keksima', 'tople', 'stavite', 'žlicu', 'sladoleda', 'šumsko', 'voće', 'te', 'sve', 'prelijte', 'omiljenim', 'preljevom', 'Dobar', 'tek']\n",
            "['Zagrijte', 'pećnicu', 'na', '162°C', '.', 'Izmiješajte', 'maslac', ',', '¼', 'čaše', 'šećera', 'i', 'pola', 'čajne', 'žličice', 'ekstrakta', 'vanilije', 'U', 'smjesu', 'postupno', 'dodavajte', 'brašno', 'Smjesu', 'pecite', '25', 'minuta', 'sir', 'ostatak', 'Dodajte', 'čokoladu', 'dobro', 'promiješajte', 'Zatim', 'dodajte', 'jaja', 'Kremu', 'prelijte', 'preko', 'biskvita', 'Tortu', '55', 'Kada', 'je', 'torta', 'pečena', 'ohladite', 'ju', 'te', 'stavite', 'u', 'hladnjak', '4', 'sata', 'Prije', 'serviranja', 'pospite', 'tortu', 'višnjama']\n",
            "['Prije', 'nego', 'što', 'pomiješate', 'sve', 'sastojke', ',', 'na', 'nastavku', 'za', 'grublje', 'ribanje', 'naribajte', 'koricu', 'jednog', 'limuna', '.', 'Jaja', 'i', 'šećer', 'stavite', 'u', 'zdjelu', 'miksanje', 'poklopite', 'miksajte', 'ručnim', 'mikserom', 'dok', 'ne', 'dobijete', 'kremu', 'Nakon', 'nekoliko', 'minuta', 'dodajte', 'mlijeko', 'otopljeni', 'maslac', 'maslinovo', 'ulje', 'limunovu', 'nastavite', 's', 'miksanjem', 'Polako', 'brašno', 'praškom', 'pecivo', 'vaniliju', 'Nastavite', 'miješati', 'žlicom', 'Na', 'kraju', 'trešnje', 'pecite', 'pećnici', '45', '180°C']\n",
            "['Pećnicu', 'zagrijte', 'na', '160°C', 'do', '170°C', '.', 'U', 'Delimano', 'zdjeli', 'za', 'miksanje', 'pomiješajte', 'sve', 'sastojke', ',', 'osim', 'kakaa', 'Sastojke', 'miksajte', 'ručnim', 'mikserom', 'niskoj', 'brzini', 'Brzinu', 'postepeno', 'povećavajte', 'srednje', 'otprilike', '3', 'minute', 'a', 'zatim', 'ugasite', 'mikser', 'i', 'sastružite', 'bočne', 'strane', 'zdjele', 'kalup', 'kuglof', 'izlijte', '3/4', 'smjese', 'ostatak', 'u', 'umiješajte', 'kakao', 'Miješajte', 'dok', 'ne', 'dobijete', 'homogenu', 'smjesu', 'Izlijte', 'je', '(', 'već', 'postojeću', ')', 'Smjese', 'lagano', 'promiješajte', 'žlicom', 'Kalup', 'stavite', 'sredinu', 'zagrijane', 'pećnice', 'pecite', '50', 'minuta', 'ili', 'čačkalici', 'nakon', 'što', 'izvadite', 'iz', 'kolača', 'kako', 'biste', 'provjerili', 'li', 'pečen', 'bude', 'ostataka', 'Izvadite', 'pustite', 'da', 'se', '10-ak', 'hladi', 'Kuglof', 'kalupa', 'Možda', 'ćete', 'krajeve', 'kuglofa', 'morati', 'povlačiti', 'Kada', 'potpunosti', 'ohladi', 'ukrasite', 'ga', 'šećerom', 'prahu']\n",
            "['U', 'zdjeli', 'za', 'miksanje', 'pomiješajte', 'sve', 'sastojke', 'kako', 'biste', 'dobili', 'tijesto', '.', 'Mijesite', 'ga', 'na', 'površini', 'koju', 'ste', 'prethodno', 'pobrašnili', ',', 'a', 'zatim', 'vratite', 'u', 'zdjelu', 'Poklopite', 'ručnikom', 'i', 'ostavite', 'da', 'odstoji', '30', 'minuta', 'dubokoj', 'posudi', 'jakoj', 'vatri', 'zagrijte', 'ulje', 'Žlicom', 'vadite', 'oblikujte', 'kuglice', 'Lagano', 'pritisnite', 'stavite', 'vruće', 'pržite', 'dok', 'ne', 'dobije', 'zlatnu', 'boju', 'Ocijedite', 'papirnatom', 'kuhinjskom', 'ručniku', 'Opcionalno', 'ukrasite', 'šećerom', 'prahu', 'Savjet', 'Možete', 'koristiti', 'kalupe', 'keksiće', 'različite', 'oblike']\n",
            "['PRIPREMA', 'Pomiješajte', 'maslac', ',', 'šećer', 'sol', 'koricu', 'naranče', 'i', 'jaje', 'dodajte', 'naribanu', 'čokoladu', 'brašno', 'pomiješano', 's', 'praškom', 'za', 'pecivo', '.', 'Umijesite', 'tijesto', 'Tijesto', 'zamotajte', 'u', 'foliju', 'stavite', 'hladnjak', 'na', '2', 'sata', 'Nakon', 'što', 'ga', 'izvadite', 'razvaljajte', 'debljinu', 'od', '0,5', 'cm', 'izrežite', 'željene', 'oblike', 'pomoću', 'kalupa', 'keksiće', 'Pecite', '190°C', '(', '170°C', 'ukoliko', 'pečete', 'pećnici', 'vrućim', 'zrakom', ')', 'dok', 'ne', 'poprime', 'laganu', 'smeđu', 'boju', 'Keksiće', 'ostavite', 'da', 'se', 'ohlade', 'GLAZURA', 'U', 'ulijte', 'sok', 'kako', 'biste', 'dobili', 'konzistentnu', 'smjesu', 'Glazuru', 'prelijte', 'preko', 'keksića', 'je', 'osuši', 'možete', 'dekorirati', 'sa', 'čokoladom']\n",
            "['Stavite', 'maslac', ',', 'šećer', 'i', 'jogurt', 'u', 'Nutribullet', 'ekstrahirajte', '.', 'U', 'mješavinu', 'dodajte', 'jaje', 'ekstrakt', 'badema', 'Nakon', 'toga', 'umiješajte', 'kavu', 'kakao', 'prašak', 'za', 'pecivo', 'sol', 'brašno', 'Tijesto', 'prebacite', 'kalup', 'pečenje', 'te', 'pecite', '20', 'minuta', 'na', '175°C']\n",
            "['Stavite', 'sve', 'sastojke', 'u', 'Nutribullet', 'i', 'ekstrahirajte', '.', 'Tijesto', 'stavite', 'hladnjak', 'da', 'se', 'hladi', '30', 'minuta', 'Rukama', 'oblikujte', 'kuglice', 'stavljajte', 'ih', 'na', 'papir', 'za', 'pečenje', 'pola', 'sata']\n",
            "['Pećnicu', 'zagrijte', 'na', '180°C', '.', 'Posudu', 'za', 'pečenje', 'premažite', 'maslacem', 'U', 'velikoj', 'posudi', 'mikserom', 'izmiksajte', 'maslac', 'dok', 'ne', 'bude', 'mekan', 'Dodajte', 'šećer', 'i', 'miksajte', 'dobijete', 'ujednačenu', 'masu', 'nježno', 'žute', 'boje', 'Za', 'to', 'će', 'biti', 'potrebna', 'minuta', 'jer', 'je', 'cilj', 'da', 'u', 'smjesu', 'uđe', 'što', 'više', 'zraka', 'Zatim', 'dodajte', 'jaja', 'drugoj', 'zdjeli', 'pomiješajte', 'brašno', 'prašak', 'pecivo', 'Tu', 'prosijte', 'mješavinu', 'maslaca', 'naribanu', 'limunovu', 'koricu', 'metalnom', 'žlicom', 'umiješajte', 'Prestanite', 's', 'miješanjem', 'čim', 'umiješate', 'kako', 'bi', 'zrak', 'dalje', 'ostao', 'smjesi', 'Mješavinu', 'ulijte', 'posudu', 'lagano', 'utisnite', 'borovnice', 'maline', 'Dio', 'ostavite', 'ukrašavanje', 'Pecite', '30', 'ili', 'pita', 'nije', 'gotova', 'Pitu', 'izvadite', 'iz', 'pećnice', 'se', 'ohladi', 'Ukrasite', 'bademovim', 'listićima', ',', 'medom', 'šećerom', 'prahu', 'malinama', 'borovnicama', 'koje', 'ste', 'stavili', 'stranu', 'te', 'metvicom', 'Uživajte']\n",
            "['Zagrijte', 'pećnicu', 'na', '190°C', '.', 'Izmiješajte', 'šećer', ',', 'maslac', 'vaniliju', 'i', 'jaja', 'Zatim', 'dodajte', 'brašno', 'sodu', 'bikarbonu', 'sol', 'Na', 'kraju', 'umiješajte', 'orahe', 'komadiće', 'čokolade', 'Rukama', 'oblikujte', 'keksiće', 'postavite', 'ih', 'namašćeni', 'lim', 'Pecite', 'od', '8', 'do', '10', 'minuta']\n",
            "['Zagrijte', 'pećnicu', 'na', '175°C', '.', 'Usitnite', 'kekse', 'Smrvljene', 'pomiješajte', 's', 'maslacom', 'i', 'šećerom', 'Smjesu', 'posložite', 'po', 'dnu', 'kalupa', 'za', 'pečenje', 'Pecite', '8', 'do', '10', 'minuta', 'Pomiješajte', 'borovnice', 'šećer', 'te', 'kuhajte', 'laganoj', 'temperaturi', 'U', 'maloj', 'zdjeli', 'limunov', 'sok', ',', 'gustin', 'vodu', 'dodajte', 'mješavini', 'šećera', 'borovnica', 'vatri', 'Kada', 'smjesa', 'postane', 'čvrsta', 'maknite', 'ju', 'vatre', 'Pomoću', 'cjedila', 'odvojite', 'od', 'Krem', 'sir', 'razradite', 'mikserom', 'Dodajte', 'ponovno', 'promiješajte', 'Zatim', 'vrhnje', 'ekstrakt', 'vanilije', 'Na', 'kraju', 'jaja', 'Punjenje', 'prelijete', 'biskvitu', 'koji', 'se', 'nalazi', 'u', 'kalupu', 'to', '¼', 'čaše', 'umaka', 'Ostatak', 'borovnicama', 'Kalup', 'postavite', 'dublji', 'pekač', 'ćete', 'napuniti', 'centimetar', 'dva', 'tople', 'vode', '55', '65', 'je', 'gotovo', 'malo', 'otvorite', 'vrata', 'pećnice', 'tortu', 'njoj', 'ostavite', 'još', 'sat', 'vremena', 'izvadite', 'prvo', 'da', 'ohladi', 'sobnoj', 'a', 'potom', 'preko', 'noći', 'smjestite', 'hladnjak', 'Izvadite', 'iz', 'vrh', 'iste', 'ostatak']\n",
            "['Izmiješajte', 'mlijeko', ',', 'kakao', 'i', 'šećer', '.', 'Zatim', 'u', 'smjesu', 'dodajte', 'slatko', 'vrhnje', 'ekstrakt', 'vanilije', 'Dobivenu', 'stavite', 'da', 'se', 'hladnjaku', 'hladi', 'pola', 'sata', 'Izvadite', 'iz', 'hladnjaka', 'ponovno', 'ju', 'promiješajte', 'Smjesu', 'plastičnu', 'posudu', 'zatvorite', 'zamrzivač']\n",
            "['Dodajte', 'mlijeko', ',', 'med', 'i', 'kakao', 'u', 'Nutribullet', 'šalicu', 'ekstrahirajte', 'oko', '30', 'sekundi', '.', 'Zatim', 'dodajte', 'chia', 'sjemenke', 'još', 'Pustite', 'da', 'puding', 'odleži', '20-25', 'minuta', 'Nakon', 'toga', 'je', 'spreman', 'za', 'posluživanje']\n",
            "['Dodajte', 'sve', 'sastojke', 'u', 'Nutribullet', 'šalicu', 'i', 'ekstrahirajte', 'oko', '30', 'sekundi', '.', 'Ostavite', 'da', 'puding', 'odleži', '1-2', 'sata', 'hladnjaku', 'Nakon', 'toga', 'preostaje', 'samo', 'uživanje']\n",
            "['Pećnicu', 'zagrijte', 'na', '180°C', '.', 'U', 'manjoj', 'posudi', 'otopite', 'kvasac', 'u', 'toploj', 'vodi', 'i', 'stavite', 'ga', 'stranu', 'velikoj', 'pomiješajte', 'mlijeko', ',', 'šećer', 'otopljeni', 'maslaca', 'sol', 'jaja', 'Dodajte', '500', 'g', 'brašna', 'miješajte', 'dok', 'ne', 'dobijete', 'ujednačenu', 'smjesu', 'Zatim', 'tu', 'dodajte', 'Umiješajte', 'ostatak', 'tijesto', 'koje', 'ćete', 'jednostavno', 'oblikovati', 'Na', 'površini', 'koju', 'ste', 'stavili', 'malo', 'mijesite', '5', 'do', '10', 'minuta', 'posudu', 'prethodno', 'premazali', 'uljem', 'poklopite', 'ostavite', 'da', 'se', 'udvostruči', 'veličini', 'Za', 'to', 'je', 'obično', 'potrebno', '1', 'sat', 'Kada', 'stisnite', 'ga.', 'Razvaljajte', 'po', 'brašno', 'Tijesto', 'premažite', 'otopljenim', 'maslacem', 'Pomiješajte', 'cimet', 'ih', 'preko', 'tijesta', 'orahe', 'pekan', 'ili', 'grožđice', 'ukoliko', 'želite', 'Zarolajte', 'spojite', 'krajeve', 'Roladu', 'narežite', '12', '15', 'šnita', 'Dno', 'CopperLUX', 'okrugle', 'multifunkcionalne', 'posude', 'šećerom', 'Cimet', 'rolice', 'posložite', 'još', 'jednom', 'podigne', 'otprilike', '45', 'Pecite', '30', 'dobiju', 'laganu', 'smeđu', 'boju', 'međuvremenu', 'maslac', 'prahu', 'vaniliju', 'Stavljajte', 'vruću', 'vodu', 'jednu', 'žlicu', 'glazura', 'dobije', 'željenu', 'konzistenciju', 'Glazurom', 'ohlađene']\n",
            "['Maslac', 'otopite', 'zajedno', 's', 'ekstraktom', 'vanilije', '.', 'Dodajte', 'polovicu', 'namijenjene', 'količine', 'meda', 'i', 'kakaa', 'u', 'prahu', 'te', 'promiješajte', 'Umiješajte', 'mlijeko', 'mješavinu', 'Ulijte', 'smjesu', 'plitki', 'mali', 'lim', 'za', 'pečenje', 'Smjesu', 'hladite', 'na', 'način', 'da', 'ju', 'špatulom', 'raspoređujete', 'unutar', 'lima', 'Kada', 'smjesa', 'dobije', 'gustoću', 'margarina', ',', 'prebacite', 'kalup', 'čokoladu', '(', 'možete', 'ostaviti', 'limu', ')', 'stavite', 'hladnjak']\n",
            "['Pećnicu', 'zagrijte', 'na', '180°C', '.', 'U', 'Nutribulletu', 'ekstrahirajte', 'rabarbaru', 'i', 'jabuku', 'Smjesu', 'stavite', 'u', 'veliku', 'posudu', 'dodajte', 'bademovo', 'kokosovo', 'brašno', 'Zatim', 'prašak', 'za', 'pecivo', ',', 'cimet', 'sol', 'Ukoliko', 'stavljate', 'šećer', 'ga', 'sada', 'ukoliko', 'koristite', 'med', 'kasnije', 'đumbir', 'mlijeko', '(', 'ne', ')', 'vaniliju', 'narančin', 'ili', 'limunov', 'sok', 'Dobivenu', 'smjesu', 'pomiješajte', 's', 'prvom', 'kalupe', 'muffine', 'pecite', '20', 'do', '25', 'minuta']\n",
            "['Ispecite', 'palačinke', '.', 'Polovicu', 'namažite', 'maslacem', 'od', 'kikirikija', ',', 'preko', 'toga', 'stavite', 'jagode', 'i', 'zatim', 'banane', 'Presavijte', 'palačinku', 'na', 'pola', 'još', 'jednom', 'dok', 'ne', 'dobijete', 'oblik', 'trokuta', 'Dekorirajte', 'narezanim', 'jagodama', 'bananama']\n",
            "['Zagrijte', 'pećnicu', 'na', '180°C', '.', 'Namastite', 'lim', 'kojem', 'ćete', 'peći', 'kolačiće', 'Dodajte', 'prvih', 'pet', 'sastojaka', 'u', 'Nutribullet', 'i', 'ekstrahirajte', 'Smjesu', 'stavite', 'pecite', '20', 'minuta', 'Izvadite', 'iz', 'pećnice', 'spustite', 'temperaturu', '150°C', 'Preostale', 'sastojke', 'Nutribulletu', 'prelijte', 'preko', 'biskvita', '30']\n",
            "['1', 'čaša', 'špinata', 'jagoda', 'datulja', 'žlica', 'kakaa', 'i', '½', 'nezašećerenog', 'bademovog', 'mlijeka']\n",
            "['Mrkvu', 'narežite', 'na', 'kolutove', 'i', 'zajedno', 'sa', 'orasima', 'bacite', 'u', 'blender', '.', 'Dodajte', 'datulje', 'koje', 'ste', 'prethodno', 'namočili', ',', 'kokosovo', 'ulje', 'otopljeno', 'vodenoj', 'kupelji', 'Miksajte', 'smjesu', 'dok', 'ne', 'dobijete', 'finu', 'teksturu', 'po', 'žlicu', 'vode', 'ako', 'je', 'smjesa', 'presuha', 'Kada', 'gotova', 'utisnite', 'ju', 'kalup', 'ostavite', 'par', 'sati', 'hladnjak', 'kako', 'bi', 'se', 'ohladila', 'stisnula']\n",
            "['Lješnjake', 'i', 'datulje', 'namačite', 'preko', 'noći', 'ili', 'najmanje', '7', 'sati', '.', 'Zatim', ',', 'sve', 'sastojke', 'stavite', 'u', 'blender', 'miksajte', 'dok', 'ne', 'dobijete', 'tekućinu', 'Dobiveno', 'mlijeko', 'procijedite', 'kroz', 'gazu', 'ulijte', 'posudu', 'koju', 'obavezno', 'zatvorite', 'spremite', 'hladnjak', 'Mlijeko', 'potrošite', 'roku', 'od', '2', 'do', '3', 'dana', 'Od', 'dobivene', 'pulpe', 'možete', 'napraviti', 'razne', 'poslastice']\n",
            "['Otopite', 'kokosovo', 'ulje', 'i', 'zajedno', 'sa', 'svim', 'sastojcima', 'povežite', 'u', 'smjesu', 'stavite', 'hladnjak', 'na', 'par', 'minuta', 'kako', 'bi', 'se', 'stegnulo', '.', 'Slatkoću', 'prilagodite', 'vlastitom', 'ukusu', 'a', 'umjesto', 'sirupa', 'možete', 'koristiti', 'med', 'Rukama', 'oblikujte', 'kuglice', 'uvaljajte', 'ih', 'nasjeckane', 'lješnjake', 'koje', 'ste', 'prethodno', 'istostirali']\n",
            "['Ogulite', 'i', 'narežite', 'bundevu', 'na', 'kockice', '.', 'Kuhajte', 'ju', '15ak', 'minuta', 'pustite', 'da', 'se', 'ohladi', 'Otopite', 'kokosovo', 'ulje', 'vodenoj', 'kupelji', 'sve', 'sastojke', 'ubacite', 'u', 'svoj', 'Nutribullet', 'Provjerite', 'odgovara', 'li', 'vam', 'slatkoća', 'pa', 'dodajte', 'ostatak', 'sastojaka', 'prema', 'ukusu', 'Dobivenu', 'masu', 'stavite', 'zamrzivač', 'minimalno', '5', 'sati', 'a', 'najbolje', 'preko', 'noći', ',', 'prije', 'posluživanja', 'ostavite', 'sladoled', '10ak', 'sobnoj', 'temperaturi', 'kako', 'bi', 'lakše', 'izvadili', 'kuglice']\n",
            "['Zagrijte', 'pećnicu', 'na', '180°C', '.', 'U', 'Nutribulletu', 'ekstrahirajte', 'brašno', 'žlicu', 'Matcha', 'praha', ',', 'sol', 'i', 'soda', 'bikarbonu', 'Zatim', 'umiješajte', '3', 'žlice', 'vanilije', '2', 'sirupa', 'agave', 'ekstrakt', 'Od', 'dobivene', 'smjese', 'oblikujte', 'kuglice', 'te', 'stavite', 'lim', 'za', 'pečenje', 'Pecite', 'od', '9', 'do', '10', 'minuta', 'Dok', 'se', 'peku', 'izmiješajte', 'preostale', 'sastojke', 'napravite', 'preljev', 'kolačiće']\n",
            "['U', 'Nutribulletu', 'ekstrahirajte', 'jabuke', ',', 'ciklu', 'i', 'mrkvu', '.', 'Dodajte', 'kokosovo', 'mlijeko', 'vaniliju', 'jaja', 'bademovo', 'Zatim', 'dodajte', 'sodu', 'bikarbonu', 'cimet', 'šećer', 'Na', 'kraju', 'brašno', 'Smjesu', 'rasporedite', 'po', 'kalupima', 'za', 'muffine', 'Pecite', 'na', '180°C', '30', 'minuta']\n",
            "['Zagrijte', 'pećnicu', 'na', '180°C', '.', 'U', 'Nutribulletu', 'ekstrahirajte', 'datulje', 'i', 'bademe', 'te', 'dodajte', 'kokosovo', 'ulje', 'Dodajte', 'brašno', 'zob', 'Jabuke', 'naribajte', 'trakice', 'im', 'limun', ',', 'koricu', 'limuna', 'šećer', 'Smjesu', 's', 'bademima', 'posložite', 'u', 'kalupe', 'za', 'muffine', 'pecite', '10', 'minuta', 'pečeno', 'tijesto', 'smjesu', 'jabukama', 'sve', 'skupa', '25']\n",
            "['U', 'Nutribulletu', 'ekstrahirajte', 'šećer', ',', 'mlijeko', 'vaniliju', 'ulje', 'i', 'maslac', '.', 'dobivenu', 'smjesu', 'dodajte', 'kakao', 'kokos', 'zob', 'te', 'ponovno', 'Rukama', 'oblikujte', 'kuglice', 'postavite', 'ih', 'na', 'lim', 'lagano', 'pritisnite', 'Bombončiće', 'tako', 'da', 'tvore', 'oči', 'nos', 'sobova', 'Lim', 'ostavite', 'u', 'hladnjaku', '30', 'minuta', 'Izvadite', 'iz', 'hladnjaka', 'sobove', 'perece', 'koji', 'će', 'tvoriti', 'rogove', 'Ponovno', 'stavite', 'hladnjak', 'nakon', 'toga', 'poslužite']\n",
            "['Dodajte', 'sve', 'sastojke', 'u', 'Nutribullet', 'šalicu', 'i', 'ekstrahirajte', 'oko', '30', 'sekundi', '.', 'Nakon', 'toga', 'preostaje', 'samo', 'uživanje']\n",
            "['Od', 'brašna', ',', 'soli', 'jaja', 'ulja', 'i', 'vode', 'zamijesite', 'mekano', 'pomalo', 'žilavo', 'tijesto', 'premažite', 'uljem', 'ostavite', 'otprilike', '30', 'minuta', 'da', 'odstoji', '.', 'Stolnjak', 'rastegnut', 'preko', 'stola', 'pospite', 'oštrim', 'brašnom', 'stavite', 'u', 'sredinu', 'lagano', 'ga', 'razvaljajte', 'valjkom', 'a', 'onda', 'rukama', 'oprezno', 'razvlačite', 'što', 'tanje', 'možete', '(', 'kao', 'štrukla', 'to', 'nije', 'neophodno', ')', 'Na', 'donju', 'stranu', 'tijesta', 'širini', 'od', '20', '-', 'cm', 'rasporedite', 'nadjev', 'koji', 'ste', 'napravili', 'sira', 'milerama', 'ili', 'kiselog', 'vrhnja', 'Ostatak', 'poškropite', 'pomoću', 'stolnjaka', 'savijte', 'Rubom', 'tanjurića', 'na', 'razmaku', 'nekih', '7', '7,5', 'režite', 'komade', 'tako', 'dobivenu', 'savijaču', 'Zakuhajte', 'vodu', 'koju', 'dodali', 'sol', 'Spustite', 'sve', 'štrukle', 'istovremeno', 'ključalu', 'pa', 'ih', 'nakon', 'isplivaju', 'kuhajte', '2', '3', 'minute', 'Možete', 'servirati', 'prepržene', 'maslacu', 'krušnim', 'mrvicama', 'kuhanja', 'poslagati', 'vatrostalnu', 'keramičku', 'posudu', 'zaliti', 'slatkim', 'kiselim', 'vrhnjem', 'po', 'želji', 'peći', '40', 'min', '200', '°C', 'dok', 'ne', 'poprime', 'zlatnožutu', 'boju']\n",
            "['Prvo', 'pripremite', 'chiu', 'budući', 'da', 'je', 'ona', 'najbolja', 'kada', 'duže', 'odstoji', '.', 'Pomiješajte', 'chia', 'sjemenke', 's', 'kokosovim', 'mlijekom', '(', '1/2', 'šalice', ')', 'i', 'ostavite', 'ih', 'pokrivene', 'u', 'hladnjaku', 'najmanje', '30', 'minuta', 'povremeno', 'kako', 'bi', 'se', 'puding', 'ravnomjerno', 'stisnuo', 'Da', 'bismo', 'prosu', 'dodali', 'okus', 'bijele', 'čokolade', ',', 'otopite', 'kakao', 'maslac', 'javorovim', 'sirupom', 'nad', 'parnom', 'kupelji', 'Kada', 'sve', 'potpuno', 'otopi', 'pomiješajte', 'dodajte', 'proso', 'a', 'zatim', 'ubacite', 'blender', 'zajedno', '1', 'šalica', 'lucumom', 'Blendajte', 'sekundi', 'ili', 'više', 'ako', 'potrebno', 'dok', 'smjesa', 'ne', 'postane', 'glatka', 'Jabuke', 'operite', 'očistite', 'narežite', 'na', 'šnitice', 'Pirjajte', 'malo', 'vode', 'uz', 'dodatak', 'javorovog', 'sirupa', 'začina', 'po', 'želji', 'Pripremite', 'dvije', 'teglice', 'čaše', 'te', 'njih', 'slažite', 'redom', 'od', 'dno', 'jabuka', 'završite', 'još']\n",
            "['Upalite', 'pećnicu', 'na', '180', '°C', '.', 'Naribajte', 'mrkvu', 'Jaja', 'izmiksajte', 'sa', 'šećerom', 'dok', 'se', 'smjesa', 'ne', 'utrostruči', 'U', 'to', 'dodajte', 'ulje', 'i', 'miksajte', 'Potom', 'cimet', ',', 'sol', 'sodu', 'bikarbonu', 'prašak', 'za', 'pecivo', 'vanilijin', 'šećer', 'brašno', 'Na', 'kraju', 'naribanu', 'usitnjene', 'bademe', 'Prebacite', 'sve', 'u', 'namašćeni', 'okrugli', 'kalup', 'pecite', '40', 'minuta', 'Kruške', 'ogulite', 'Očistite', 'ih', 'prerežite', 'pola', 'Sve', 'sastojke', 'stavite', 'lonac', 'ugrijte', 'do', 'vrenja', 'ubacite', 'kruške', 'Kuhajte', '15', 'Izvadite', 'četiri', 'polovice', 'izrežite', 'ploške', 'Krem', 'sir', 'maslac', 'ujednače', 'prahu', 'Izmiksajte', 'Prerežite', 'biskvit', 'Pola', 'kreme', 'složite', 'prvi', 'dio', 'biskvita', 'njega', 'posložite', 'kriške', 'kremu', 'drugi', 'Obložite', 'tortu', 'ostatkom', 'vrh', 'Možete', 'posuti', 'nasjeckanim', 'bademima']\n",
            "['Pećnicu', 'upalite', 'na', '130', '°C', 'i', 'ostavite', 'da', 'se', 'grije', '.', 'Bjelanjke', 's', 'prstohvatom', 'soli', 'istucite', 'u', 'čvrsti', 'snijeg', ',', 'postepeno', 'dodavajte', 'šećer', 'cijelo', 'vrijeme', 'miksajući', 'mikserom', 'Miksajte', 'nekoliko', 'minuta', 'sve', 'dok', 'smjesa', 'ne', 'postane', 'glatka', 'sjajna', 'Na', 'kraju', 'smjesu', 'dodajte', 'prosijani', 'gussnel', 'ocat', 'pomiješajte', 'špatulom', 'Smjesu', 'rasporedite', 'papir', 'za', 'pečenje', 'krug', 'promjera', 'cca', '20', 'cm', 'Stavite', 'koru', 'pećnicu', 'sat', 'trideset', 'Pritom', 'otvarajte', 'Dok', 'kora', 'peče', 'jabuke', 'očistite', 'narežite', 'ploške', 'U', 'lonac', 'stavite', 'maslac', 'zagrijte', 'ga.', 'Dodajte', 'đumbir', 'kardamom', 'Miješajte', 'kuhajte', 'nekih', '10', 'do', '15', 'omekšaju', 'Ostavite', 'sa', 'strane', 'ohladi', 'Vrhnje', 'šlag', 'izradite', 'ali', 'kraja', 'to', 'krem', 'sir', 'prahu', 'aromu', 'vanilije', 'laganoj', 'brzini', 'miksajte', 'spoji', 'Kada', 'je', 'gotova', 'nju', 'vrhnja', 'sira', 'te', 'po', 'vrhu', 'ohlađene', 'Ukrasite', 'nasjeckanim', 'bademima']\n",
            "['Luk', 'očistite', 'i', 'narežite', 'na', 'sitno', '.', 'Ulje', 'stavite', 'u', 'tavu', 'dinstajte', 'luk', 'uz', 'povremeno', 'miješanje', 'Dodajte', 'narezanu', 'rajčicu', 'papriku', 'Podlijte', 's', 'malo', 'vode', 'promiješajte', 'Pustite', 'laganoj', 'vatri', '20', 'minuta', 'pokrijte', 'poklopcem', 'da', 'rajčica', 'paprika', 'što', 'prije', 'omekšaju', 'Nakon', 'su', 'sastojci', 'omekšali', ',', 'dodajte', 'svježeg', 'peršina', 'sol', 'papar', 'šećer', 'po', 'želji', 'dok', 'ne', 'dobijete', 'okus', 'koji', 'volite', 'sve', 'krčka', 'tavi', 'još', '15-ak', 'zatim', 'maknite', 'vatre', 'poslužite', 'kao', 'prilog', 'meso', 'ili', 'jednostavno', 'umiješajte', 'kuhanu', 'tjesteninu']\n",
            "['Upalite', 'pećnicu', 'na', '180', '°C', '.', 'Batat', 'očistite', ',', 'operite', 'nasjeckajte', 'ploške', 'i', 'stavite', 'u', 'hladnu', 'vodu', 'vatru', 'Neka', 'se', 'kuha', 'sve', 'dok', 'vilicom', 'ne', 'možete', 'lagano', 'proći', 'kroz', 'batat', '(', 'cca', '15', 'minuta', ')', 'Kada', 'je', 'gotov', 'izlijte', 'ga', 'veliko', 'cjedilo', 'da', 'prohladi', 'U', 'Nutribullet', 'bademe', 'zobene', 'pahuljice', 'Blendajte', 'jako', 'usitni', 'tj', 'badem', 'zob', 'postanu', 'kao', 'brašno', 'Dodajte', 'datulje', 'Ponovo', 'blendajte', 'usitne', 'Toj', 'smjesi', 'dodajte', 'med', 'cimet', 'kakao', 'vaniliju', 'sol', 'Kratko', 'promiješa', 'ohladi', 's', 'rastopljenim', 'kokosovim', 'uljem', 'nekih', '5', 'smjesa', 'postane', 'glatka', 'mali', 'protvan', 'ulijte', 'smjesu', 'Prethodno', 'namažite', 'Smjesu', 'ravnomjerno', 'rasporedite', 'po', 'njemu', 'Pecite', '30']\n",
            "['Na', 'laganoj', 'vatri', 'otopite', 'kokosovo', 'ulje', ',', 'med', 'i', 'maslac', 'od', 'kikirikija', '.', 'U', 'smjesu', 'umiješajte', 'cimet', 'kakao', 'da', 'dobijete', 'jednoličnu', 'Špatulom', 'u', 'to', 'rižu', 'se', 'potpunosti', 'prožme', 'Kalup', 'za', 'kruh', 'obložite', 'papirom', 'pečenje', 'Svu', 'utisnite', 'dno', 'Stavite', 'zamrzivač', 'na', '15', 'minuta', 'Izvadite', 'iz', 'kalupa', 'pomoću', 'papira', 'režite', 'ploške']\n",
            "['Orahe', ',', 'zobene', 'i', 'datulje', 'stavite', 'u', 'Nutribullet', 'sameljite', 'na', 'sitno', 'dok', 'se', 'ne', 'sjedini', '.', 'U', 'to', 'dodajte', 'ostale', 'sastojke', 'dobijete', 'kuglu', 'Kuglu', 'izvadite', 'iz', 'Nutribulleta', 'rolajte', 'kuglice', 'Kuglice', 'uvaljajte', 'tostirani', 'sezam', 'ili', 'kakao', 'maline', 'prahu', 'Čuvajte', 'frižideru']\n",
            "['Dodajte', 'sve', 'sastojke', 'u', 'Nutribullet', 'šalicu', 'i', 'ekstrahirajte', 'oko', '30', 'sekundi', 'nekoliko', 'razmaka', '.', 'Zagrijte', 'tavu', 'za', 'palačinke', 'na', 'srednje', 'jakoj', 'vatri', ',', 'ulijte', '1/3', 'šalice', 'smjese', 'pecite', '3', 'min', 'sa', 'svake', 'strane', 'Poslužite', 'uz', 'svježe', 'voće', 'ili', 'javorov', 'sirup', 'Dobar', 'tek']\n",
            "['U', 'Delimano', 'kuhinjskom', 'robotu', 'Pro', 'napravite', 'snijeg', 'od', 'bjelanjaka', '.', 'Umutite', 'posebno', 'žutanjke', ',', 'naizmjenično', 'dodajte', 'šećer', 'vanili', 'i', 'ulje', 'smjesu', 'mineralnu', 'vodu', 'brašno', 's', 'praškom', 'za', 'pecivo', 'Na', 'kraju', 'u', 'tu', 'čvrsti', 'Podijelite', 'na', 'dva', 'jednaka', 'dijela', 'prvi', 'dio', '3', 'žlice', 'kakaa', 'prahu', 'a', 'drugi', '2', 'brašna', 'namašćeno', 'kuhalo', 'naizmjenice', 'tamnu', 'svijetlu', 'Zatvorite', 'poklopac', 'Odaberite', 'opciju', 'Baking', 'postavite', 'vrijeme', '70', 'minuta', 'Pritisnite', 'Start', 'Po', 'završetku', 'programa', 'uživajte', 'odličnom', 'Zebra', 'kolaču']\n",
            "['Pomiješajte', 'sve', 'sastojke', ',', 'osim', 'ekstrakta', 'vanilije', 'i', 'zagrijte', 'u', 'mikrovalnoj', '4', 'minute', '.', 'Zatim', 'dodajte', 'vaniliju', 'Dodajte', 'Nutribullet', 'ekstrahirajte']\n"
          ]
        }
      ]
    },
    {
      "cell_type": "code",
      "source": [
        "import matplotlib.pyplot as plt\n",
        "import seaborn as sns"
      ],
      "metadata": {
        "id": "wrw0G_NpDy3E"
      },
      "execution_count": null,
      "outputs": []
    },
    {
      "cell_type": "code",
      "source": [
        "df=df.iloc[:, 2:]\n",
        "print(df)"
      ],
      "metadata": {
        "colab": {
          "base_uri": "https://localhost:8080/"
        },
        "id": "V6ioOK2UHMZz",
        "outputId": "49c2d50a-8d2a-4bb3-c184-50b4533d4cfb"
      },
      "execution_count": null,
      "outputs": [
        {
          "output_type": "stream",
          "name": "stdout",
          "text": [
            "   VRIJEME PRIPREME VRIJEME KUHANJA UKUPNO VREMENA ZAHTJEVNOST  \\\n",
            "1         30 MINUTA               -      30 MINUTA      3 /5.    \n",
            "2         15 MINUTA       50 MINUTA      65 MINUTA      3 /5.    \n",
            "3         15 MINUTA       25 MINUTA      40 MINUTA      3 /5.    \n",
            "4         15 MINUTA       55 MINUTA      70 MINUTA      3 /5.    \n",
            "5         15 MINUTA    30-40 MINUTA   45-50 MINUTA      3 /5.    \n",
            "..              ...             ...            ...         ...   \n",
            "95        20 MINUTA        0 MINUTA      20 MINUTA      2 /5.    \n",
            "96        10 MINUTA        0 MINUTA      10 MINUTA      3 /5.    \n",
            "97       30 SEKUNDI               -       4 MINUTA      2 /5.    \n",
            "98        15 MINUTA       70 MINUTA      85 MINUTA      3 /5.    \n",
            "99         1 MINUTA        5 MINUTA       6 MINUTA      2 /5.    \n",
            "\n",
            "                                             SASTOJCI  \\\n",
            "1   300 g tikvica\\n1.5 l vode\\n1 žlica alkoholnog ...   \n",
            "2   1,3 kg bundeve\\n3 režnja češnjaka\\n3 žlice svj...   \n",
            "3   0,7 kg bundeve\\n1 maleni luk\\n3 medvjeđa luka\\...   \n",
            "4   \\n1 bundeva\\n1 režanj češnjaka\\n5 listova kadu...   \n",
            "5   2 bundeve\\n2 čajna žličica soli\\n1 žlica masli...   \n",
            "..                                                ...   \n",
            "95  150 ml maslaca od kikirikija\\n1 žlica kokosova...   \n",
            "96  3 žlice kakaa\\nprstohvat vanilije\\n1 šalica or...   \n",
            "97  1 1/2 šalica nezaslađenog bademovog mlijeka\\n2...   \n",
            "98  5 jaja\\n1 mjerna posuda* šećera\\n1 vanili šeće...   \n",
            "99  1 šalica sušenih smokvi\\n1 šalica brusnica\\n2 ...   \n",
            "\n",
            "                                             PRIPREMA  \n",
            "1   Tikvicu operite i po želji ogulite. Narežite j...  \n",
            "2   \\nZagrijte pećnicu na 200°C.\\nIzmiješajte masl...  \n",
            "3   Zagrijte maslinovo ulje na laganoj temperaturi...  \n",
            "4   Prepolovite bundevu, ogulite ju, uklonite sjem...  \n",
            "5   Zagrijte pećnicu na 200°C.\\nBundeve ogulite, p...  \n",
            "..                                                ...  \n",
            "95  Na laganoj vatri otopite kokosovo ulje, med i ...  \n",
            "96  Orahe, zobene i datulje stavite u Nutribullet ...  \n",
            "97  Dodajte sve sastojke u Nutribullet šalicu i ek...  \n",
            "98  U Delimano kuhinjskom robotu Pro napravite sni...  \n",
            "99  Pomiješajte sve sastojke, osim ekstrakta vanil...  \n",
            "\n",
            "[99 rows x 6 columns]\n"
          ]
        }
      ]
    },
    {
      "cell_type": "code",
      "source": [
        "import pandas as pd\n",
        "import random\n",
        "\n",
        "# Read the recipe data from the spreadsheet\n",
        "df = pd.read_excel('/content/drive/MyDrive/data/dataset.xlsx')\n",
        "\n",
        "# Get user input for ingredients\n",
        "ingredient1 = input(\"Enter ingredient 1: \").strip()\n",
        "ingredient2 = input(\"Enter ingredient 2: \").strip()\n",
        "ingredient3 = input(\"Enter ingredient 3: \").strip()\n",
        "\n",
        "# Create a list of the entered ingredients\n",
        "desired_ingredients = [ingredient1, ingredient2, ingredient3]\n",
        "\n",
        "# Filter the dataframe based on desired ingredients\n",
        "filtered_df = df[df['SASTOJCI'].str.contains('|'.join(desired_ingredients), case=False)]\n",
        "\n",
        "# Get the list of meals with matching ingredients\n",
        "matching_meals = filtered_df['NAZIV JELA'].tolist()\n",
        "\n",
        "# Print the matching meals\n",
        "print(\"Meals that contain the desired ingredients:\")\n",
        "for index, meal in enumerate(matching_meals):\n",
        "    print(f\"{index+1}. {meal}\")\n",
        "\n",
        "# Prompt the user to select a meal\n",
        "selection = input(\"Enter the number of the meal you want to view: \")\n",
        "\n",
        "# Get the index of the selected meal\n",
        "meal_index = int(selection) - 1\n",
        "\n",
        "if 0 <= meal_index < len(matching_meals):\n",
        "    # Get the selected meal and its ingredients\n",
        "    selected_meal = matching_meals[meal_index]\n",
        "    selected_row = filtered_df.loc[df['NAZIV JELA'] == selected_meal]\n",
        "    ingredients = selected_row['SASTOJCI'].values[0]\n",
        "    prep_time = selected_row['VRIJEME PRIPREME'].values[0]\n",
        "    cook_time = selected_row['VRIJEME KUHANJA'].values[0]\n",
        "    time = selected_row['UKUPNO VREMENA'].values[0]\n",
        "    hard=selected_row['ZAHTJEVNOST'].values[0]\n",
        "    preparation=selected_row['PRIPREMA'].values[0]\n",
        "\n",
        "    # Display the selected meal and its ingredients\n",
        "    print(f\"\\nSelected Meal: {selected_meal}\")\n",
        "    print(\"\\nIngredients:\")\n",
        "    print(ingredients)\n",
        "    print(\"\\nVrijeme pripremne: \", prep_time)\n",
        "    print(\"\\nVrijeme kuhanja: \", cook_time)\n",
        "    print(\"\\nUkupno vremena: \", time)\n",
        "    print(\"\\nZahtjevnost: \", hard)\n",
        "    print(\"\\nPriprema: \", preparation)\n",
        "else:\n",
        "    random_meal = random.choice(matching_meals)\n",
        "    random_row = filtered_df.loc[df['NAZIV JELA'] == random_meal]\n",
        "\n",
        "    # Display the random recipe and its attributes\n",
        "    print(\"\\nRecipe of the Day:\")\n",
        "    print(random_row.to_string(index=False))\n",
        "\n",
        "    # Get the preparation time, cooking time, total time, hardness, and preparation steps\n",
        "    preparation_time = random_row['VP\tVRIJEME PRIPREME'].iloc[0]\n",
        "    cooking_time = random_row['VK VRIJEME KUHANJA'].iloc[0]\n",
        "    total_time = random_row['UV\tUKUPNO VREMENA'].iloc[0]\n",
        "    hardness = random_row['ZAHTJEVNOST'].iloc[0]\n",
        "    preparation_steps = random_row['PRIPREMA'].iloc[0]\n",
        "\n",
        "    # Display the additional information\n",
        "    print\n"
      ],
      "metadata": {
        "id": "cvx7R4HQqsXZ"
      },
      "execution_count": null,
      "outputs": []
    }
  ]
}